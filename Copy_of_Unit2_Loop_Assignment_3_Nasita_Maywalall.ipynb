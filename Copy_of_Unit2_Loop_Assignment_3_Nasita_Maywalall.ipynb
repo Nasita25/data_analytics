{
  "nbformat": 4,
  "nbformat_minor": 0,
  "metadata": {
    "colab": {
      "name": "Copy of Unit2_Loop_Assignment_3. Nasita Maywalall",
      "provenance": [],
      "collapsed_sections": [],
      "include_colab_link": true
    },
    "kernelspec": {
      "name": "python3",
      "display_name": "Python 3"
    }
  },
  "cells": [
    {
      "cell_type": "markdown",
      "metadata": {
        "id": "view-in-github",
        "colab_type": "text"
      },
      "source": [
        "<a href=\"https://colab.research.google.com/github/Nasita25/data_analytics/blob/main/Copy_of_Unit2_Loop_Assignment_3_Nasita_Maywalall.ipynb\" target=\"_parent\"><img src=\"https://colab.research.google.com/assets/colab-badge.svg\" alt=\"Open In Colab\"/></a>"
      ]
    },
    {
      "cell_type": "markdown",
      "metadata": {
        "id": "alerd1zgoHDk"
      },
      "source": [
        "By: Nasita Maywalall"
      ]
    },
    {
      "cell_type": "markdown",
      "metadata": {
        "id": "Vgs8Kp4TidFQ"
      },
      "source": [
        "# Introduction to Python - Loop - Assignment #3 "
      ]
    },
    {
      "cell_type": "markdown",
      "metadata": {
        "id": "_Hq7Ny79iwgD"
      },
      "source": [
        "## 1. Create a list that holds 5 data variables. "
      ]
    },
    {
      "cell_type": "code",
      "metadata": {
        "id": "lotvpVpvlKsR"
      },
      "source": [
        "fruits=['strawberries', 'mango', 'banana', 'orange', 'kiwi']"
      ],
      "execution_count": null,
      "outputs": []
    },
    {
      "cell_type": "code",
      "metadata": {
        "id": "oNXY-CfrlLbE"
      },
      "source": [
        ""
      ],
      "execution_count": null,
      "outputs": []
    },
    {
      "cell_type": "markdown",
      "metadata": {
        "id": "io_27RSlizno"
      },
      "source": [
        "## 2.\tPrint out those variables by using a for loop"
      ]
    },
    {
      "cell_type": "code",
      "metadata": {
        "id": "Dh1o5cAylSHB",
        "colab": {
          "base_uri": "https://localhost:8080/"
        },
        "outputId": "10a96992-5af4-4882-97a7-9a4dc29ca4ef"
      },
      "source": [
        "fruits=['strawberries', 'mango', 'banana', 'orange', 'kiwi']\n",
        "for fruit in fruits:\n",
        "      print(fruit)"
      ],
      "execution_count": null,
      "outputs": [
        {
          "output_type": "stream",
          "text": [
            "strawberries\n",
            "mango\n",
            "banana\n",
            "orange\n",
            "kiwi\n"
          ],
          "name": "stdout"
        }
      ]
    },
    {
      "cell_type": "code",
      "metadata": {
        "id": "vs8ppR-wlSKL"
      },
      "source": [
        ""
      ],
      "execution_count": null,
      "outputs": []
    },
    {
      "cell_type": "markdown",
      "metadata": {
        "id": "DAW8m8IQjRyR"
      },
      "source": [
        "## 3.\tModify your for loop to add a message to your for loop."
      ]
    },
    {
      "cell_type": "code",
      "metadata": {
        "id": "guULMEhrjYtT",
        "colab": {
          "base_uri": "https://localhost:8080/"
        },
        "outputId": "7566b7d0-6b37-4d5a-e725-30af4f0a37ab"
      },
      "source": [
        "fruits=['strawberry', 'mango', 'banana', 'orange', 'kiwi']\n",
        "for fruit in fruits:\n",
        "      print('My favorite fruit is' + \" \" + fruit.upper() + \"!\")"
      ],
      "execution_count": null,
      "outputs": [
        {
          "output_type": "stream",
          "text": [
            "My favorite fruit is STRAWBERRY!\n",
            "My favorite fruit is MANGO!\n",
            "My favorite fruit is BANANA!\n",
            "My favorite fruit is ORANGE!\n",
            "My favorite fruit is KIWI!\n"
          ],
          "name": "stdout"
        }
      ]
    },
    {
      "cell_type": "code",
      "metadata": {
        "id": "cv946RaOjw-G"
      },
      "source": [
        ""
      ],
      "execution_count": null,
      "outputs": []
    },
    {
      "cell_type": "markdown",
      "metadata": {
        "id": "dpa_YOt4jXyo"
      },
      "source": [
        "## 4.\tUse a for loop to print even numbers from 1-20."
      ]
    },
    {
      "cell_type": "code",
      "metadata": {
        "id": "pltxfnh3iJLW",
        "colab": {
          "base_uri": "https://localhost:8080/"
        },
        "outputId": "50074e5b-e26b-4174-8342-5812a5015dc1"
      },
      "source": [
        "numbers=list(range(2,22,2))\n",
        "for num in numbers:\n",
        "    print(num)"
      ],
      "execution_count": null,
      "outputs": [
        {
          "output_type": "stream",
          "text": [
            "2\n",
            "4\n",
            "6\n",
            "8\n",
            "10\n",
            "12\n",
            "14\n",
            "16\n",
            "18\n",
            "20\n"
          ],
          "name": "stdout"
        }
      ]
    },
    {
      "cell_type": "code",
      "metadata": {
        "id": "PzH5Rcn-jwPL"
      },
      "source": [
        ""
      ],
      "execution_count": null,
      "outputs": []
    },
    {
      "cell_type": "markdown",
      "metadata": {
        "id": "Ka84RGy4jmLT"
      },
      "source": [
        "## 5.\tSort your list in alphabetic order."
      ]
    },
    {
      "cell_type": "code",
      "metadata": {
        "id": "34IFFtK4jrg4",
        "colab": {
          "base_uri": "https://localhost:8080/"
        },
        "outputId": "02c31878-10b7-46af-acb8-a84cb9318e91"
      },
      "source": [
        "\n",
        "fruits=['strawberry', 'mango', 'banana', 'orange', 'kiwi']\n",
        "for fruit in sorted(fruits):\n",
        "  print(fruit)"
      ],
      "execution_count": null,
      "outputs": [
        {
          "output_type": "stream",
          "text": [
            "banana\n",
            "kiwi\n",
            "mango\n",
            "orange\n",
            "strawberry\n"
          ],
          "name": "stdout"
        }
      ]
    },
    {
      "cell_type": "code",
      "metadata": {
        "id": "M17RfxQljvqb"
      },
      "source": [
        ""
      ],
      "execution_count": null,
      "outputs": []
    },
    {
      "cell_type": "code",
      "metadata": {
        "id": "4agTp_Cyju4-"
      },
      "source": [
        ""
      ],
      "execution_count": null,
      "outputs": []
    },
    {
      "cell_type": "markdown",
      "metadata": {
        "id": "ZKHwdMnLliFy"
      },
      "source": [
        "## 6.\tPrint out the first three elements of your list."
      ]
    },
    {
      "cell_type": "code",
      "metadata": {
        "id": "eXUDZfLOllTT",
        "colab": {
          "base_uri": "https://localhost:8080/"
        },
        "outputId": "6daba16f-e06a-40c0-f3a7-1dd0b499f073"
      },
      "source": [
        "fruits=['strawberry', 'mango', 'banana', 'orange', 'kiwi']\n",
        "for fruit in fruits[:3]:\n",
        "  print(fruit)"
      ],
      "execution_count": null,
      "outputs": [
        {
          "output_type": "stream",
          "text": [
            "strawberry\n",
            "mango\n",
            "banana\n"
          ],
          "name": "stdout"
        }
      ]
    },
    {
      "cell_type": "code",
      "metadata": {
        "id": "4oNKGU70llVg"
      },
      "source": [
        ""
      ],
      "execution_count": null,
      "outputs": []
    },
    {
      "cell_type": "markdown",
      "metadata": {
        "id": "oedkoLECmv6x"
      },
      "source": [
        "## 7.\tCreate a loop to print the last 2 elements of your list."
      ]
    },
    {
      "cell_type": "code",
      "metadata": {
        "id": "jjh2GdktllZY",
        "colab": {
          "base_uri": "https://localhost:8080/"
        },
        "outputId": "229813d0-f50f-436d-b34c-0bebab0f792a"
      },
      "source": [
        "fruits=['strawberry', 'mango', 'banana', 'orange', 'kiwi']\n",
        "for fruit in fruits [3:5]:\n",
        "    print(fruit)"
      ],
      "execution_count": null,
      "outputs": [
        {
          "output_type": "stream",
          "text": [
            "orange\n",
            "kiwi\n"
          ],
          "name": "stdout"
        }
      ]
    },
    {
      "cell_type": "code",
      "metadata": {
        "id": "iHaRIrt8llcd"
      },
      "source": [
        ""
      ],
      "execution_count": null,
      "outputs": []
    }
  ]
}