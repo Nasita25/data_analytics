{
  "nbformat": 4,
  "nbformat_minor": 0,
  "metadata": {
    "colab": {
      "name": "Dictionaries",
      "provenance": [],
      "authorship_tag": "ABX9TyPFki1S2iVllJoyEaN9mubK",
      "include_colab_link": true
    },
    "kernelspec": {
      "name": "python3",
      "display_name": "Python 3"
    }
  },
  "cells": [
    {
      "cell_type": "markdown",
      "metadata": {
        "id": "view-in-github",
        "colab_type": "text"
      },
      "source": [
        "<a href=\"https://colab.research.google.com/github/Nasita25/data_analytics/blob/main/TrackA/PYTHON/Dictionaries.ipynb\" target=\"_parent\"><img src=\"https://colab.research.google.com/assets/colab-badge.svg\" alt=\"Open In Colab\"/></a>"
      ]
    },
    {
      "cell_type": "code",
      "metadata": {
        "colab": {
          "base_uri": "https://localhost:8080/"
        },
        "id": "i1DO-uAURGKU",
        "outputId": "af6eff3e-1d42-449a-c743-629b4daab144"
      },
      "source": [
        "patient = {'firstname': 'John' }\n",
        "patient"
      ],
      "execution_count": null,
      "outputs": [
        {
          "output_type": "execute_result",
          "data": {
            "text/plain": [
              "{'firstname': 'John'}"
            ]
          },
          "metadata": {
            "tags": []
          },
          "execution_count": 2
        }
      ]
    },
    {
      "cell_type": "code",
      "metadata": {
        "colab": {
          "base_uri": "https://localhost:8080/"
        },
        "id": "FLP-K3yDSCnK",
        "outputId": "d4a88d36-c7ca-4f1e-c7a6-327155e434cb"
      },
      "source": [
        "patient_1={'firstname':\"John\", \"lastname\": \"Kimble\"}\n",
        "print(patient_1['firstname'])\n",
        "print(patient_1['lastname'])\n",
        "patient_1"
      ],
      "execution_count": null,
      "outputs": [
        {
          "output_type": "stream",
          "text": [
            "John\n",
            "Kimble\n"
          ],
          "name": "stdout"
        },
        {
          "output_type": "execute_result",
          "data": {
            "text/plain": [
              "{'firstname': 'John', 'lastname': 'Kimble'}"
            ]
          },
          "metadata": {
            "tags": []
          },
          "execution_count": 5
        }
      ]
    },
    {
      "cell_type": "code",
      "metadata": {
        "colab": {
          "base_uri": "https://localhost:8080/"
        },
        "id": "mqgxuvmhUq9L",
        "outputId": "ee0cf493-8efd-4d6c-c302-4b85788e59ba"
      },
      "source": [
        "patient_1={'firstname':\"John\", \"lastname\": \"Kimble\"}\n",
        "print(\"How are you feeling,\" + \" \" + patient_1[\"firstname\"] + \" \" +patient_1[\"lastname\"] + '?')"
      ],
      "execution_count": null,
      "outputs": [
        {
          "output_type": "stream",
          "text": [
            "How are you feeling, John Kimble?\n"
          ],
          "name": "stdout"
        }
      ]
    },
    {
      "cell_type": "code",
      "metadata": {
        "colab": {
          "base_uri": "https://localhost:8080/"
        },
        "id": "4JwjbseJV9GU",
        "outputId": "28b8eafa-d6f2-499e-93e6-e0abc4f891f8"
      },
      "source": [
        "patient_1={'firstname':\"John\", \"lastname\": \"Kimble\"}\n",
        "\n",
        "patient_1\n",
        "\n",
        "patient_1['MRN']= '000000'\n",
        "patient_1['last_exam']='echo'\n",
        "\n",
        "patient_1"
      ],
      "execution_count": null,
      "outputs": [
        {
          "output_type": "execute_result",
          "data": {
            "text/plain": [
              "{'MRN': '000000',\n",
              " 'firstname': 'John',\n",
              " 'last_exam': 'echo',\n",
              " 'lastname': 'Kimble'}"
            ]
          },
          "metadata": {
            "tags": []
          },
          "execution_count": 9
        }
      ]
    },
    {
      "cell_type": "code",
      "metadata": {
        "colab": {
          "base_uri": "https://localhost:8080/"
        },
        "id": "LNjnBOA9XLEj",
        "outputId": "d016b422-46a0-405b-ee94-7666bc37ca90"
      },
      "source": [
        "patient_2 ={}\n",
        "\n",
        "patient_2['firstname']='Jean'\n",
        "patient_2['lastname']='picard'\n",
        "\n",
        "print(patient_2)\n",
        "\n",
        "patient_2['lastname']= 'Picard'\n",
        "print(patient_2)\n",
        "del patient_2['firstname']\n",
        "print(patient_2)"
      ],
      "execution_count": null,
      "outputs": [
        {
          "output_type": "stream",
          "text": [
            "{'firstname': 'Jean', 'lastname': 'picard'}\n",
            "{'firstname': 'Jean', 'lastname': 'Picard'}\n",
            "{'lastname': 'Picard'}\n"
          ],
          "name": "stdout"
        }
      ]
    },
    {
      "cell_type": "code",
      "metadata": {
        "colab": {
          "base_uri": "https://localhost:8080/"
        },
        "id": "bjzJIAwxZ84u",
        "outputId": "5d32b17c-c3f9-4f7d-c069-124a87cacfe1"
      },
      "source": [
        "patient_3={\n",
        "    'name': 'Jack',\n",
        "    'last_name': \"Sparrow\",\n",
        "    'mrn': '0000',\n",
        "    'dob': '04261997'}\n",
        "print(patient_3)\n",
        "print(\"Good Morning\" + \" \" + patient_3['name'] + \" \" + patient_3['last_name'] + \" \" +\",how are you doing?\")\n",
        "\n"
      ],
      "execution_count": null,
      "outputs": [
        {
          "output_type": "stream",
          "text": [
            "{'name': 'Jack', 'last_name': 'Sparrow', 'mrn': '0000', 'dob': '04261997'}\n",
            "Good Morning Jack Sparrow ,how are you doing?\n"
          ],
          "name": "stdout"
        }
      ]
    },
    {
      "cell_type": "code",
      "metadata": {
        "colab": {
          "base_uri": "https://localhost:8080/"
        },
        "id": "r74t8DTSbZqg",
        "outputId": "233dfab7-83d0-4f61-a9da-d7fcc3121102"
      },
      "source": [
        "friend_1 ={\n",
        "    'name': 'Yasmeen',\n",
        "    'lastname': \"Persaud\",\n",
        "    'age': \"20\",\n",
        "    'city': \"Queens\",\n",
        "    'job': 'Journalist' }\n",
        "friend_1\n"
      ],
      "execution_count": null,
      "outputs": [
        {
          "output_type": "execute_result",
          "data": {
            "text/plain": [
              "{'age': '20',\n",
              " 'city': 'Queens',\n",
              " 'job': 'Journalist',\n",
              " 'lastname': 'Persaud',\n",
              " 'name': 'Yasmeen'}"
            ]
          },
          "metadata": {
            "tags": []
          },
          "execution_count": 21
        }
      ]
    },
    {
      "cell_type": "code",
      "metadata": {
        "colab": {
          "base_uri": "https://localhost:8080/"
        },
        "id": "vouW-oR7b9XS",
        "outputId": "59b84c15-f636-4a64-f846-1d62ad4b8d95"
      },
      "source": [
        "name_age={\n",
        "    'mandy':30,\n",
        "    \"ome\":31,\n",
        "    'monish':28,\n",
        "    'bhela':3,\n",
        "    'sunita':53\n",
        "}\n",
        "num = name_age['mandy']\n",
        "print('Mandy is' + \" \" + str(num) + \" \" + \"years old.\")\n",
        "\n",
        "num=name_age[\"ome\"]\n",
        "print('Ome is' + \" \" +str(num) + \" \" + \"years old.\")\n",
        "\n",
        "num= name_age[\"monish\"]\n",
        "print(\"Monish is\" + \" \" + str(num) + \" \" + \"years old.\")\n",
        "\n",
        "num= name_age[\"bhela\"]\n",
        "print(\"Bhela is\" + \" \" + str(num) + \" \" + \"years old.\")\n",
        "\n",
        "num= name_age[\"sunita\"]\n",
        "print(\"Sunita is\" + \" \" + str(num) + \" \" + \"years old.\")\n",
        "\n"
      ],
      "execution_count": null,
      "outputs": [
        {
          "output_type": "stream",
          "text": [
            "Mandy is 30 years old.\n",
            "Ome is 31 years old.\n",
            "Monish is 28 years old.\n",
            "Bhela is 3 years old.\n",
            "Sunita is 53 years old.\n"
          ],
          "name": "stdout"
        }
      ]
    },
    {
      "cell_type": "code",
      "metadata": {
        "colab": {
          "base_uri": "https://localhost:8080/"
        },
        "id": "NVHScV7afeHq",
        "outputId": "7a9c19f2-28a9-4609-ffda-b23c4815736d"
      },
      "source": [
        "Vocabwords = {\n",
        "    'String':'A series of characters',\n",
        "    'Concatenating' : \"A combination of strings\",\n",
        "    'Operators': \"Special symbols that represent computations\"\n",
        "}\n",
        "Vocabwords"
      ],
      "execution_count": null,
      "outputs": [
        {
          "output_type": "execute_result",
          "data": {
            "text/plain": [
              "{'Concatenating': 'A combination of strings',\n",
              " 'Operators': 'Special symbols that represent computations',\n",
              " 'String': 'A series of characters'}"
            ]
          },
          "metadata": {
            "tags": []
          },
          "execution_count": 33
        }
      ]
    },
    {
      "cell_type": "code",
      "metadata": {
        "colab": {
          "base_uri": "https://localhost:8080/"
        },
        "id": "TzKJ09oCZEDQ",
        "outputId": "ee913459-1c0b-4c30-dfaf-64a506ee5ee8"
      },
      "source": [
        "patient_3={\n",
        "    'name': 'Jack',\n",
        "    'last_name': \"Sparrow\",\n",
        "    'mrn': '0000',\n",
        "    'dob': '04261997'}\n",
        "\n",
        "for key, value in patient_3.items():\n",
        "  print(\"\\nkey:\" + key)\n",
        "  print(\"\\nvalue:\" + value)\n",
        "  "
      ],
      "execution_count": null,
      "outputs": [
        {
          "output_type": "stream",
          "text": [
            "\n",
            "key:name\n",
            "\n",
            "value:Jack\n",
            "\n",
            "key:last_name\n",
            "\n",
            "value:Sparrow\n",
            "\n",
            "key:mrn\n",
            "\n",
            "value:0000\n",
            "\n",
            "key:dob\n",
            "\n",
            "value:04261997\n"
          ],
          "name": "stdout"
        }
      ]
    },
    {
      "cell_type": "code",
      "metadata": {
        "colab": {
          "base_uri": "https://localhost:8080/"
        },
        "id": "py7xRn-4lrSd",
        "outputId": "dc170cf6-8a8c-44c5-b8e3-8c5bbb191926"
      },
      "source": [
        "friends_age={\n",
        "    'mandy':30,\n",
        "    \"ome\":31,\n",
        "    'monish':28,\n",
        "    'bhela':3,\n",
        "    'sunita':53 }\n",
        "friend_fav=['mandy', 'monish']\n",
        "for name in friends_age.keys():\n",
        "  print(name.title())\n",
        "if name in friend_fav:\n",
        "  print('Hi'+name.title() + \". I see you are\" + friends_age[name]+ \"years old.\")"
      ],
      "execution_count": null,
      "outputs": [
        {
          "output_type": "stream",
          "text": [
            "Mandy\n",
            "Ome\n",
            "Monish\n",
            "Bhela\n",
            "Sunita\n"
          ],
          "name": "stdout"
        }
      ]
    },
    {
      "cell_type": "code",
      "metadata": {
        "id": "VB8A1lJEpAwf",
        "colab": {
          "base_uri": "https://localhost:8080/"
        },
        "outputId": "2910499a-a80e-47a9-edb6-5c3af55351ea"
      },
      "source": [
        "number=1\n",
        "while number <= 5:\n",
        "  print(number)\n",
        "  number +=1"
      ],
      "execution_count": null,
      "outputs": [
        {
          "output_type": "stream",
          "text": [
            "1\n",
            "2\n",
            "3\n",
            "4\n",
            "5\n"
          ],
          "name": "stdout"
        }
      ]
    },
    {
      "cell_type": "code",
      "metadata": {
        "colab": {
          "base_uri": "https://localhost:8080/"
        },
        "id": "dSJIFaDetVrQ",
        "outputId": "2b4d5f05-8dda-493e-bdde-03c25a102ca3"
      },
      "source": [
        "message=input('Please enter you first name')\n",
        "print(message)"
      ],
      "execution_count": 70,
      "outputs": [
        {
          "output_type": "stream",
          "text": [
            "Please enter you first nameNasita\n",
            "Nasita\n"
          ],
          "name": "stdout"
        }
      ]
    },
    {
      "cell_type": "code",
      "metadata": {
        "colab": {
          "base_uri": "https://localhost:8080/"
        },
        "id": "Lw8_v8-Vti4W",
        "outputId": "b4a65109-6f1c-424a-b858-beec2020c322"
      },
      "source": [
        "prompt=\"Input a message. I will repeat it until you type 'quit'\"\n",
        "message=\"\"\n",
        "while message != 'quit':\n",
        "  message= input(prompt)\n",
        "  print(message)"
      ],
      "execution_count": 71,
      "outputs": [
        {
          "output_type": "stream",
          "text": [
            "Input a message. I will repeat it until you type 'quit'How are you?\n",
            "How are you?\n",
            "Input a message. I will repeat it until you type 'quit'Hello?\n",
            "Hello?\n",
            "Input a message. I will repeat it until you type 'quit'Hello?\n",
            "Hello?\n",
            "Input a message. I will repeat it until you type 'quit'Okay...\n",
            "Okay...\n",
            "Input a message. I will repeat it until you type 'quit'quit\n",
            "quit\n"
          ],
          "name": "stdout"
        }
      ]
    },
    {
      "cell_type": "markdown",
      "metadata": {
        "id": "WrBR3gj0uixm"
      },
      "source": [
        ""
      ]
    },
    {
      "cell_type": "code",
      "metadata": {
        "colab": {
          "base_uri": "https://localhost:8080/"
        },
        "id": "ZjppaTH2t6VL",
        "outputId": "ab095fe0-654c-44b3-f2e3-7af54581e3d7"
      },
      "source": [
        "prompt = \"Input a message. I will repeat it until you type 'quit'\"\n",
        "message=\"\"\n",
        "\n",
        "active=True\n",
        "while active:\n",
        "  message= input(prompt)\n",
        "\n",
        "  if message ==\"quit\":\n",
        "      active = False\n",
        "  \n",
        "  else:\n",
        "    print(message)"
      ],
      "execution_count": 78,
      "outputs": [
        {
          "output_type": "stream",
          "text": [
            "Input a message. I will repeat it until you type 'quit'Hello\n",
            "Hello\n",
            "Input a message. I will repeat it until you type 'quit'yes\n",
            "yes\n",
            "Input a message. I will repeat it until you type 'quit'how are you\n",
            "how are you\n",
            "Input a message. I will repeat it until you type 'quit'well\n",
            "well\n",
            "Input a message. I will repeat it until you type 'quit'quit\n"
          ],
          "name": "stdout"
        }
      ]
    }
  ]
}