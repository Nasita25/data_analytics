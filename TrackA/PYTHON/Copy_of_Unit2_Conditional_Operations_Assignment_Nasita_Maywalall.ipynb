{
  "nbformat": 4,
  "nbformat_minor": 0,
  "metadata": {
    "colab": {
      "name": "Copy of Unit2_Conditional_Operations_Assignment: Nasita Maywalall",
      "provenance": [],
      "collapsed_sections": [],
      "include_colab_link": true
    },
    "kernelspec": {
      "name": "python3",
      "display_name": "Python 3"
    }
  },
  "cells": [
    {
      "cell_type": "markdown",
      "metadata": {
        "id": "view-in-github",
        "colab_type": "text"
      },
      "source": [
        "<a href=\"https://colab.research.google.com/github/Nasita25/data_analytics/blob/main/TrackA/PYTHON/Copy_of_Unit2_Conditional_Operations_Assignment_Nasita_Maywalall.ipynb\" target=\"_parent\"><img src=\"https://colab.research.google.com/assets/colab-badge.svg\" alt=\"Open In Colab\"/></a>"
      ]
    },
    {
      "cell_type": "markdown",
      "metadata": {
        "id": "Vgs8Kp4TidFQ"
      },
      "source": [
        "# Intrdouction to Python - Conditional Operations Assignment #4\r\n",
        "\r\n",
        "## If-elif-else Statements "
      ]
    },
    {
      "cell_type": "markdown",
      "metadata": {
        "id": "_Hq7Ny79iwgD"
      },
      "source": [
        "## 1.\tMake a list of 5 or more usernames, including an admin account.  Imagine you are writing code that will welcome people to your application on login. Loop through the list and print your greeting.\r\n",
        "\r\n",
        "a.\tIf the admin account logs in, give them a special greeting.  They’re the admin, after all!\r\n",
        "\r\n",
        "b.\tOther users can get the generic greeting\r\n",
        "\r\n"
      ]
    },
    {
      "cell_type": "code",
      "metadata": {
        "id": "lotvpVpvlKsR",
        "colab": {
          "base_uri": "https://localhost:8080/"
        },
        "outputId": "653ae754-eeea-4a51-8cb3-521068e9b625"
      },
      "source": [
        "usernames=['Lucy25','Regina2','Philip54','DanielM','Admin']\n",
        "message = ('Welcome back!')\n",
        "for names in usernames:\n",
        "  if names == \"Admin\":\n",
        "    print('Thank you for logging in, Admin!')\n",
        "  else:\n",
        "    print(names.title()+ \" \" + 'welcome back!')"
      ],
      "execution_count": null,
      "outputs": [
        {
          "output_type": "stream",
          "text": [
            "Lucy25 welcome back!\n",
            "Regina2 welcome back!\n",
            "Philip54 welcome back!\n",
            "Danielm welcome back!\n",
            "Thank you for logging in, Admin!\n"
          ],
          "name": "stdout"
        }
      ]
    },
    {
      "cell_type": "code",
      "metadata": {
        "id": "oNXY-CfrlLbE"
      },
      "source": [
        ""
      ],
      "execution_count": null,
      "outputs": []
    },
    {
      "cell_type": "code",
      "metadata": {
        "id": "lyoaBLI8nvRT"
      },
      "source": [
        ""
      ],
      "execution_count": null,
      "outputs": []
    },
    {
      "cell_type": "code",
      "metadata": {
        "id": "TuD1O2R0nvTd"
      },
      "source": [
        ""
      ],
      "execution_count": null,
      "outputs": []
    },
    {
      "cell_type": "code",
      "metadata": {
        "id": "1uWxo8AxnvVN"
      },
      "source": [
        ""
      ],
      "execution_count": null,
      "outputs": []
    },
    {
      "cell_type": "code",
      "metadata": {
        "id": "32ld2T0onvZE"
      },
      "source": [
        ""
      ],
      "execution_count": null,
      "outputs": []
    },
    {
      "cell_type": "code",
      "metadata": {
        "id": "DGwOthAbnvaw"
      },
      "source": [
        ""
      ],
      "execution_count": null,
      "outputs": []
    },
    {
      "cell_type": "code",
      "metadata": {
        "id": "6_iDEhq5nvd8"
      },
      "source": [
        ""
      ],
      "execution_count": null,
      "outputs": []
    },
    {
      "cell_type": "markdown",
      "metadata": {
        "id": "io_27RSlizno"
      },
      "source": [
        "## 2.\tStore numbers 1-10 in a list\r\n",
        "\r\n",
        "a.\tLoop through the list\r\n",
        "\r\n",
        "b.\tUse an if-elif-else chain inside your loop to print the ordinal ending for each number – for example – 1st, 2nd, 3rd … etc.\r\n",
        "\r\n"
      ]
    },
    {
      "cell_type": "code",
      "metadata": {
        "id": "Dh1o5cAylSHB",
        "colab": {
          "base_uri": "https://localhost:8080/"
        },
        "outputId": "7c07e55b-4dd9-4557-b96c-466381b145e3"
      },
      "source": [
        "for numbers in range (1,11):\n",
        "  print(numbers)"
      ],
      "execution_count": null,
      "outputs": [
        {
          "output_type": "stream",
          "text": [
            "1\n",
            "2\n",
            "3\n",
            "4\n",
            "5\n",
            "6\n",
            "7\n",
            "8\n",
            "9\n",
            "10\n"
          ],
          "name": "stdout"
        }
      ]
    },
    {
      "cell_type": "code",
      "metadata": {
        "id": "vs8ppR-wlSKL",
        "colab": {
          "base_uri": "https://localhost:8080/"
        },
        "outputId": "198704f5-a583-489a-cdb6-d86e8207e535"
      },
      "source": [
        "numbers = list(range(1,11))\n",
        "for num in numbers:\n",
        "  if num ==1:\n",
        "    print('1st')\n",
        "  elif num ==2:\n",
        "    print('2nd')\n",
        "  elif num ==3:\n",
        "    print('3rd')\n",
        "  else:\n",
        "    print(str(num)+\"th\")\n",
        "  "
      ],
      "execution_count": null,
      "outputs": [
        {
          "output_type": "stream",
          "text": [
            "1st\n",
            "2nd\n",
            "3rd\n",
            "4th\n",
            "5th\n",
            "6th\n",
            "7th\n",
            "8th\n",
            "9th\n",
            "10th\n"
          ],
          "name": "stdout"
        }
      ]
    },
    {
      "cell_type": "code",
      "metadata": {
        "id": "5mkKtxzunuqc"
      },
      "source": [
        ""
      ],
      "execution_count": null,
      "outputs": []
    },
    {
      "cell_type": "code",
      "metadata": {
        "id": "rmfPnI5onutd"
      },
      "source": [
        ""
      ],
      "execution_count": null,
      "outputs": []
    },
    {
      "cell_type": "code",
      "metadata": {
        "id": "6000qDkVnuxM"
      },
      "source": [
        ""
      ],
      "execution_count": null,
      "outputs": []
    },
    {
      "cell_type": "code",
      "metadata": {
        "id": "X2X4dTbfnu0M"
      },
      "source": [
        ""
      ],
      "execution_count": null,
      "outputs": []
    }
  ]
}