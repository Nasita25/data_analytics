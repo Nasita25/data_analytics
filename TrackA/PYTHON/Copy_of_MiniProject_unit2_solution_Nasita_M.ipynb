{
  "nbformat": 4,
  "nbformat_minor": 0,
  "metadata": {
    "colab": {
      "name": "Copy of MiniProject_unit2_solution.Nasita M",
      "provenance": [],
      "collapsed_sections": [],
      "include_colab_link": true
    },
    "kernelspec": {
      "name": "python3",
      "display_name": "Python 3"
    }
  },
  "cells": [
    {
      "cell_type": "markdown",
      "metadata": {
        "id": "view-in-github",
        "colab_type": "text"
      },
      "source": [
        "<a href=\"https://colab.research.google.com/github/Nasita25/data_analytics/blob/main/TrackA/PYTHON/Copy_of_MiniProject_unit2_solution_Nasita_M.ipynb\" target=\"_parent\"><img src=\"https://colab.research.google.com/assets/colab-badge.svg\" alt=\"Open In Colab\"/></a>"
      ]
    },
    {
      "cell_type": "markdown",
      "metadata": {
        "id": "eyOFW9MkrE38"
      },
      "source": [
        "Ask the user for a number. Depending on whether the number is even or odd, print out an appropriate message to the user.  Hint: how does an even / odd number react differently when divided by 2?\r\n",
        "\r\n",
        "**Bonus:**\r\n",
        "* if the number is a multiple of 4, print out a different message.\r\n",
        "* Ask the user for two numbers: one number to check (call it num) and one number to divide by (check).  If check divides evenly into num, tell that to the user.  If not, print a different appropriate message.\r\n",
        "* Write a custom function for finding whether the number is even or odd and call it in your main program code.\r\n",
        "\r\n",
        "\r\n",
        "\r\n",
        "\r\n",
        "\r\n"
      ]
    },
    {
      "cell_type": "code",
      "metadata": {
        "id": "l3PpjTi8q3zC",
        "colab": {
          "base_uri": "https://localhost:8080/"
        },
        "outputId": "78174ff8-3242-4548-8271-3b56c238f042"
      },
      "source": [
        "num = int(input(\"Enter a number: \"))\n",
        "check = int(input(\"give me a number to divide by: \"))\n",
        "x = num % 2\n",
        "if x > 0:\n",
        "    print(\"You picked an odd number.\")\n",
        "else:\n",
        "    print(\"You picked an even number.\")\n",
        "\n",
        "\n",
        "if num % 4 == 0:\n",
        "    print(\"You picked a multiple of 4\")\n",
        "if num % check == 0:\n",
        "    print(num, \"divides evenly by\", check)\n",
        "else:\n",
        "    print(num, \"does not divide evenly by\", check)\n",
        "\n"
      ],
      "execution_count": null,
      "outputs": [
        {
          "output_type": "stream",
          "text": [
            "Enter a number: 8\n",
            "give me a number to divide by: 4\n",
            "You picked an even number.\n",
            "You picked a multiple of 4\n",
            "8 divides evenly by 4\n"
          ],
          "name": "stdout"
        }
      ]
    },
    {
      "cell_type": "markdown",
      "metadata": {
        "id": "j0aCubXkEui8"
      },
      "source": [
        "Make a two-player Rock-Paper-Scissors game. (Hint: Ask for player plays (using input), compare them, print out a message of congratulations to the winner, and ask if the players want to start a new game)​\r\n",
        "\r\n",
        "\r\n",
        "*  Remember the rules:​\r\n",
        "*  Rock beats scissors​\r\n",
        "*  Scissors beats paper​\r\n",
        "*  Paper beats rock\r\n",
        "\r\n",
        "\r\n",
        "\r\n",
        "\r\n",
        "\r\n",
        "\r\n"
      ]
    },
    {
      "cell_type": "code",
      "metadata": {
        "id": "ZwF9wr3eE7Fa",
        "colab": {
          "base_uri": "https://localhost:8080/"
        },
        "outputId": "564456e3-d509-4edb-843e-3451aef339f0"
      },
      "source": [
        "user1=input(\"Player 1, please enter your name:\")\n",
        "user2=input('Player 2, please enter your name:')\n",
        "user1_answer = input(\"%s,please choose rock, paper or scissors.\"  %user1)\n",
        "user2_answer = input(\"%s, please choose rock, paper or scissors.\" %user2)\n",
        "\n",
        "def compare(u1, u2):\n",
        "    if u1 == u2:\n",
        "        return(\"It's a tie!\")\n",
        "    elif u1 == 'rock':\n",
        "        if u2 == 'scissors':\n",
        "            return(\"Rock wins!\")\n",
        "        else:\n",
        "            return(\"Paper wins!\")\n",
        "    elif u1 == 'scissors':\n",
        "        if u2 == 'paper':\n",
        "            return(\"Scissors win!\")\n",
        "        else:\n",
        "            return(\"Rock wins!\")\n",
        "    elif u1 == 'paper':\n",
        "        if u2 == 'rock':\n",
        "            return(\"Paper wins!\")\n",
        "        else:\n",
        "            return(\"Scissors win!\")\n",
        "    else:\n",
        "        return(\"Invalid input! You have not entered rock, paper or scissors, please try again or exit the game.\")\n",
        "        sys.exit()\n",
        "\n",
        "print(compare(user1_answer, user2_answer))\n",
        "\n"
      ],
      "execution_count": null,
      "outputs": [
        {
          "output_type": "stream",
          "text": [
            "Player 1, please enter your name:ashley\n",
            "Player 2, please enter your name:yaz\n",
            "ashley,please choose rock, paper or scissors.paper\n",
            "yaz, please choose rock, paper or scissors.rock\n",
            "Paper wins!\n"
          ],
          "name": "stdout"
        }
      ]
    }
  ]
}