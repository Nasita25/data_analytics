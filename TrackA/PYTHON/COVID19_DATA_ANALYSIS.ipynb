{
  "nbformat": 4,
  "nbformat_minor": 0,
  "metadata": {
    "colab": {
      "name": "Copy of TonyLeung_NasitaMaywalall_AmySukhoo COVID19_DATA_ANALYSIS.ipynb",
      "provenance": [],
      "collapsed_sections": [],
      "include_colab_link": true
    },
    "kernelspec": {
      "name": "python3",
      "display_name": "Python 3"
    }
  },
  "cells": [
    {
      "cell_type": "markdown",
      "metadata": {
        "id": "view-in-github",
        "colab_type": "text"
      },
      "source": [
        "<a href=\"https://colab.research.google.com/github/Nasita25/data_analytics/blob/main/TrackA/PYTHON/COVID19_DATA_ANALYSIS.ipynb\" target=\"_parent\"><img src=\"https://colab.research.google.com/assets/colab-badge.svg\" alt=\"Open In Colab\"/></a>"
      ]
    },
    {
      "cell_type": "markdown",
      "metadata": {
        "id": "9jvXpX2bbIFF"
      },
      "source": [
        "# COVID 19 Data Analysis\n",
        "\n",
        "*Task 1: Tony\n",
        "\n",
        "*Task 2: Amy\n",
        "\n",
        "\n",
        "*Task 3: Amy\n",
        "\n",
        "\n",
        "*Task 4: Tony\n",
        "\n",
        "\n",
        "*Task 5: Nasita\n",
        "\n",
        "\n",
        "*Task 6: Tony/Nasita"
      ]
    },
    {
      "cell_type": "markdown",
      "metadata": {
        "id": "RSvGZmxBa_Gk"
      },
      "source": [
        "**Description:** This script will read the latest data from the New York Times' county-level COVID-19 database at https://github.com/nytimes/covid-19-data/blob/master/us-counties.csv, filter the data for a chosen county in a chosen state, calculate the daily count of new cases and new deaths, print the most recent 28 days' worth of data for the selected county, and save the county's data for all dates to a comma-separated value (.csv) file on your computer. The printed data can be copied and pasted directly into a spreadsheet for further analysis and visualization.\r\n",
        "\r\n",
        "**Note:** For information about the data, see https://github.com/nytimes/covid-19-data.\r\n",
        "\r\n",
        "**Note:** After you have run the script one time in a given Anaconda environment, you may reduce the script's execution time by adding a `#` in front of `pip install pandas`. For example, `#pip install pandas` instead of `pip install pandas`. The `#` will tell Python to skip the code without running it."
      ]
    },
    {
      "cell_type": "markdown",
      "metadata": {
        "id": "ji_HknaobZJh"
      },
      "source": [
        "# Task 1 : Environment Set up"
      ]
    },
    {
      "cell_type": "markdown",
      "metadata": {
        "id": "q2y0bY0XbhNZ"
      },
      "source": [
        "Import all required libraries that are needed for data analysis"
      ]
    },
    {
      "cell_type": "code",
      "metadata": {
        "id": "k2f9bX3aiTDP"
      },
      "source": [
        "import pandas as pd\n",
        "import numpy as np\n",
        "import matplotlib.pyplot as plt\n",
        "from matplotlib import style\n",
        "import seaborn as sns\n",
        "%matplotlib inline"
      ],
      "execution_count": null,
      "outputs": []
    },
    {
      "cell_type": "markdown",
      "metadata": {
        "id": "vgt8s61dbueM"
      },
      "source": [
        "# Task 2 :  Data Collection"
      ]
    },
    {
      "cell_type": "markdown",
      "metadata": {
        "id": "CEc5pqrkbxcX"
      },
      "source": [
        "Use nytimes github repository as a data source to collect the covid 19 data in real time and ingest it into colab notebook for data analysis purpose"
      ]
    },
    {
      "cell_type": "code",
      "metadata": {
        "id": "vgw9nO9Hm_SB"
      },
      "source": [
        "df = pd.read_csv('https://raw.githubusercontent.com/nytimes/covid-19-data/master/us-states.csv')"
      ],
      "execution_count": null,
      "outputs": []
    },
    {
      "cell_type": "code",
      "metadata": {
        "id": "FEG9n2sI0Yxu",
        "colab": {
          "base_uri": "https://localhost:8080/",
          "height": 195
        },
        "outputId": "6d17553a-2a17-41bf-99a0-076a100274a1"
      },
      "source": [
        "df.head()"
      ],
      "execution_count": null,
      "outputs": [
        {
          "output_type": "execute_result",
          "data": {
            "text/html": [
              "<div>\n",
              "<style scoped>\n",
              "    .dataframe tbody tr th:only-of-type {\n",
              "        vertical-align: middle;\n",
              "    }\n",
              "\n",
              "    .dataframe tbody tr th {\n",
              "        vertical-align: top;\n",
              "    }\n",
              "\n",
              "    .dataframe thead th {\n",
              "        text-align: right;\n",
              "    }\n",
              "</style>\n",
              "<table border=\"1\" class=\"dataframe\">\n",
              "  <thead>\n",
              "    <tr style=\"text-align: right;\">\n",
              "      <th></th>\n",
              "      <th>date</th>\n",
              "      <th>state</th>\n",
              "      <th>fips</th>\n",
              "      <th>cases</th>\n",
              "      <th>deaths</th>\n",
              "    </tr>\n",
              "  </thead>\n",
              "  <tbody>\n",
              "    <tr>\n",
              "      <th>0</th>\n",
              "      <td>2020-01-21</td>\n",
              "      <td>Washington</td>\n",
              "      <td>53</td>\n",
              "      <td>1</td>\n",
              "      <td>0</td>\n",
              "    </tr>\n",
              "    <tr>\n",
              "      <th>1</th>\n",
              "      <td>2020-01-22</td>\n",
              "      <td>Washington</td>\n",
              "      <td>53</td>\n",
              "      <td>1</td>\n",
              "      <td>0</td>\n",
              "    </tr>\n",
              "    <tr>\n",
              "      <th>2</th>\n",
              "      <td>2020-01-23</td>\n",
              "      <td>Washington</td>\n",
              "      <td>53</td>\n",
              "      <td>1</td>\n",
              "      <td>0</td>\n",
              "    </tr>\n",
              "    <tr>\n",
              "      <th>3</th>\n",
              "      <td>2020-01-24</td>\n",
              "      <td>Illinois</td>\n",
              "      <td>17</td>\n",
              "      <td>1</td>\n",
              "      <td>0</td>\n",
              "    </tr>\n",
              "    <tr>\n",
              "      <th>4</th>\n",
              "      <td>2020-01-24</td>\n",
              "      <td>Washington</td>\n",
              "      <td>53</td>\n",
              "      <td>1</td>\n",
              "      <td>0</td>\n",
              "    </tr>\n",
              "  </tbody>\n",
              "</table>\n",
              "</div>"
            ],
            "text/plain": [
              "         date       state  fips  cases  deaths\n",
              "0  2020-01-21  Washington    53      1       0\n",
              "1  2020-01-22  Washington    53      1       0\n",
              "2  2020-01-23  Washington    53      1       0\n",
              "3  2020-01-24    Illinois    17      1       0\n",
              "4  2020-01-24  Washington    53      1       0"
            ]
          },
          "metadata": {
            "tags": []
          },
          "execution_count": 10
        }
      ]
    },
    {
      "cell_type": "code",
      "metadata": {
        "id": "ap0owuu30bLe",
        "colab": {
          "base_uri": "https://localhost:8080/",
          "height": 195
        },
        "outputId": "5c2129d6-94bc-4124-9f4d-7750b8133880"
      },
      "source": [
        "df.tail()"
      ],
      "execution_count": null,
      "outputs": [
        {
          "output_type": "execute_result",
          "data": {
            "text/html": [
              "<div>\n",
              "<style scoped>\n",
              "    .dataframe tbody tr th:only-of-type {\n",
              "        vertical-align: middle;\n",
              "    }\n",
              "\n",
              "    .dataframe tbody tr th {\n",
              "        vertical-align: top;\n",
              "    }\n",
              "\n",
              "    .dataframe thead th {\n",
              "        text-align: right;\n",
              "    }\n",
              "</style>\n",
              "<table border=\"1\" class=\"dataframe\">\n",
              "  <thead>\n",
              "    <tr style=\"text-align: right;\">\n",
              "      <th></th>\n",
              "      <th>date</th>\n",
              "      <th>state</th>\n",
              "      <th>fips</th>\n",
              "      <th>cases</th>\n",
              "      <th>deaths</th>\n",
              "    </tr>\n",
              "  </thead>\n",
              "  <tbody>\n",
              "    <tr>\n",
              "      <th>17609</th>\n",
              "      <td>2021-01-16</td>\n",
              "      <td>Virginia</td>\n",
              "      <td>51</td>\n",
              "      <td>429391</td>\n",
              "      <td>5706</td>\n",
              "    </tr>\n",
              "    <tr>\n",
              "      <th>17610</th>\n",
              "      <td>2021-01-16</td>\n",
              "      <td>Washington</td>\n",
              "      <td>53</td>\n",
              "      <td>290896</td>\n",
              "      <td>3971</td>\n",
              "    </tr>\n",
              "    <tr>\n",
              "      <th>17611</th>\n",
              "      <td>2021-01-16</td>\n",
              "      <td>West Virginia</td>\n",
              "      <td>54</td>\n",
              "      <td>108124</td>\n",
              "      <td>1761</td>\n",
              "    </tr>\n",
              "    <tr>\n",
              "      <th>17612</th>\n",
              "      <td>2021-01-16</td>\n",
              "      <td>Wisconsin</td>\n",
              "      <td>55</td>\n",
              "      <td>566275</td>\n",
              "      <td>5906</td>\n",
              "    </tr>\n",
              "    <tr>\n",
              "      <th>17613</th>\n",
              "      <td>2021-01-16</td>\n",
              "      <td>Wyoming</td>\n",
              "      <td>56</td>\n",
              "      <td>49068</td>\n",
              "      <td>522</td>\n",
              "    </tr>\n",
              "  </tbody>\n",
              "</table>\n",
              "</div>"
            ],
            "text/plain": [
              "             date          state  fips   cases  deaths\n",
              "17609  2021-01-16       Virginia    51  429391    5706\n",
              "17610  2021-01-16     Washington    53  290896    3971\n",
              "17611  2021-01-16  West Virginia    54  108124    1761\n",
              "17612  2021-01-16      Wisconsin    55  566275    5906\n",
              "17613  2021-01-16        Wyoming    56   49068     522"
            ]
          },
          "metadata": {
            "tags": []
          },
          "execution_count": 11
        }
      ]
    },
    {
      "cell_type": "code",
      "metadata": {
        "id": "zZdaTiUk0fqE",
        "colab": {
          "base_uri": "https://localhost:8080/",
          "height": 284
        },
        "outputId": "f160f6b4-d52f-4c95-ba51-57effd889ecf"
      },
      "source": [
        "df.describe()"
      ],
      "execution_count": null,
      "outputs": [
        {
          "output_type": "execute_result",
          "data": {
            "text/html": [
              "<div>\n",
              "<style scoped>\n",
              "    .dataframe tbody tr th:only-of-type {\n",
              "        vertical-align: middle;\n",
              "    }\n",
              "\n",
              "    .dataframe tbody tr th {\n",
              "        vertical-align: top;\n",
              "    }\n",
              "\n",
              "    .dataframe thead th {\n",
              "        text-align: right;\n",
              "    }\n",
              "</style>\n",
              "<table border=\"1\" class=\"dataframe\">\n",
              "  <thead>\n",
              "    <tr style=\"text-align: right;\">\n",
              "      <th></th>\n",
              "      <th>fips</th>\n",
              "      <th>cases</th>\n",
              "      <th>deaths</th>\n",
              "    </tr>\n",
              "  </thead>\n",
              "  <tbody>\n",
              "    <tr>\n",
              "      <th>count</th>\n",
              "      <td>17614.000000</td>\n",
              "      <td>1.761400e+04</td>\n",
              "      <td>17614.000000</td>\n",
              "    </tr>\n",
              "    <tr>\n",
              "      <th>mean</th>\n",
              "      <td>31.910469</td>\n",
              "      <td>1.180861e+05</td>\n",
              "      <td>2971.343874</td>\n",
              "    </tr>\n",
              "    <tr>\n",
              "      <th>std</th>\n",
              "      <td>18.639954</td>\n",
              "      <td>2.251762e+05</td>\n",
              "      <td>5536.457301</td>\n",
              "    </tr>\n",
              "    <tr>\n",
              "      <th>min</th>\n",
              "      <td>1.000000</td>\n",
              "      <td>1.000000e+00</td>\n",
              "      <td>0.000000</td>\n",
              "    </tr>\n",
              "    <tr>\n",
              "      <th>25%</th>\n",
              "      <td>17.000000</td>\n",
              "      <td>4.558500e+03</td>\n",
              "      <td>98.000000</td>\n",
              "    </tr>\n",
              "    <tr>\n",
              "      <th>50%</th>\n",
              "      <td>31.000000</td>\n",
              "      <td>3.388450e+04</td>\n",
              "      <td>770.000000</td>\n",
              "    </tr>\n",
              "    <tr>\n",
              "      <th>75%</th>\n",
              "      <td>46.000000</td>\n",
              "      <td>1.325918e+05</td>\n",
              "      <td>3303.000000</td>\n",
              "    </tr>\n",
              "    <tr>\n",
              "      <th>max</th>\n",
              "      <td>78.000000</td>\n",
              "      <td>2.974966e+06</td>\n",
              "      <td>40376.000000</td>\n",
              "    </tr>\n",
              "  </tbody>\n",
              "</table>\n",
              "</div>"
            ],
            "text/plain": [
              "               fips         cases        deaths\n",
              "count  17614.000000  1.761400e+04  17614.000000\n",
              "mean      31.910469  1.180861e+05   2971.343874\n",
              "std       18.639954  2.251762e+05   5536.457301\n",
              "min        1.000000  1.000000e+00      0.000000\n",
              "25%       17.000000  4.558500e+03     98.000000\n",
              "50%       31.000000  3.388450e+04    770.000000\n",
              "75%       46.000000  1.325918e+05   3303.000000\n",
              "max       78.000000  2.974966e+06  40376.000000"
            ]
          },
          "metadata": {
            "tags": []
          },
          "execution_count": 12
        }
      ]
    },
    {
      "cell_type": "markdown",
      "metadata": {
        "id": "dXToiyPccf4h"
      },
      "source": [
        "# Task 3 : Data Wrangling and EDA (Exploratory Data Analysis)"
      ]
    },
    {
      "cell_type": "markdown",
      "metadata": {
        "id": "XrywUhma1LD6"
      },
      "source": [
        "**1. Analyzing New York state data for Covid 19**"
      ]
    },
    {
      "cell_type": "code",
      "metadata": {
        "id": "-IXvRlig1Qjq",
        "colab": {
          "base_uri": "https://localhost:8080/",
          "height": 195
        },
        "outputId": "e46d4f6f-f90e-4f53-b881-03b4178f865e"
      },
      "source": [
        "df_ny = df[ df['state'] == 'New York']\n",
        "df_ny.head()\n"
      ],
      "execution_count": null,
      "outputs": [
        {
          "output_type": "execute_result",
          "data": {
            "text/html": [
              "<div>\n",
              "<style scoped>\n",
              "    .dataframe tbody tr th:only-of-type {\n",
              "        vertical-align: middle;\n",
              "    }\n",
              "\n",
              "    .dataframe tbody tr th {\n",
              "        vertical-align: top;\n",
              "    }\n",
              "\n",
              "    .dataframe thead th {\n",
              "        text-align: right;\n",
              "    }\n",
              "</style>\n",
              "<table border=\"1\" class=\"dataframe\">\n",
              "  <thead>\n",
              "    <tr style=\"text-align: right;\">\n",
              "      <th></th>\n",
              "      <th>date</th>\n",
              "      <th>state</th>\n",
              "      <th>fips</th>\n",
              "      <th>cases</th>\n",
              "      <th>deaths</th>\n",
              "    </tr>\n",
              "  </thead>\n",
              "  <tbody>\n",
              "    <tr>\n",
              "      <th>246</th>\n",
              "      <td>2020-03-01</td>\n",
              "      <td>New York</td>\n",
              "      <td>36</td>\n",
              "      <td>1</td>\n",
              "      <td>0</td>\n",
              "    </tr>\n",
              "    <tr>\n",
              "      <th>261</th>\n",
              "      <td>2020-03-02</td>\n",
              "      <td>New York</td>\n",
              "      <td>36</td>\n",
              "      <td>1</td>\n",
              "      <td>0</td>\n",
              "    </tr>\n",
              "    <tr>\n",
              "      <th>276</th>\n",
              "      <td>2020-03-03</td>\n",
              "      <td>New York</td>\n",
              "      <td>36</td>\n",
              "      <td>2</td>\n",
              "      <td>0</td>\n",
              "    </tr>\n",
              "    <tr>\n",
              "      <th>293</th>\n",
              "      <td>2020-03-04</td>\n",
              "      <td>New York</td>\n",
              "      <td>36</td>\n",
              "      <td>11</td>\n",
              "      <td>0</td>\n",
              "    </tr>\n",
              "    <tr>\n",
              "      <th>313</th>\n",
              "      <td>2020-03-05</td>\n",
              "      <td>New York</td>\n",
              "      <td>36</td>\n",
              "      <td>22</td>\n",
              "      <td>0</td>\n",
              "    </tr>\n",
              "  </tbody>\n",
              "</table>\n",
              "</div>"
            ],
            "text/plain": [
              "           date     state  fips  cases  deaths\n",
              "246  2020-03-01  New York    36      1       0\n",
              "261  2020-03-02  New York    36      1       0\n",
              "276  2020-03-03  New York    36      2       0\n",
              "293  2020-03-04  New York    36     11       0\n",
              "313  2020-03-05  New York    36     22       0"
            ]
          },
          "metadata": {
            "tags": []
          },
          "execution_count": 13
        }
      ]
    },
    {
      "cell_type": "code",
      "metadata": {
        "colab": {
          "base_uri": "https://localhost:8080/",
          "height": 195
        },
        "id": "GWmybUWVHqsN",
        "outputId": "0520a88b-d477-4435-a60d-01082bcfeec2"
      },
      "source": [
        "df_ny.tail()"
      ],
      "execution_count": null,
      "outputs": [
        {
          "output_type": "execute_result",
          "data": {
            "text/html": [
              "<div>\n",
              "<style scoped>\n",
              "    .dataframe tbody tr th:only-of-type {\n",
              "        vertical-align: middle;\n",
              "    }\n",
              "\n",
              "    .dataframe tbody tr th {\n",
              "        vertical-align: top;\n",
              "    }\n",
              "\n",
              "    .dataframe thead th {\n",
              "        text-align: right;\n",
              "    }\n",
              "</style>\n",
              "<table border=\"1\" class=\"dataframe\">\n",
              "  <thead>\n",
              "    <tr style=\"text-align: right;\">\n",
              "      <th></th>\n",
              "      <th>date</th>\n",
              "      <th>state</th>\n",
              "      <th>fips</th>\n",
              "      <th>cases</th>\n",
              "      <th>deaths</th>\n",
              "    </tr>\n",
              "  </thead>\n",
              "  <tbody>\n",
              "    <tr>\n",
              "      <th>17372</th>\n",
              "      <td>2021-01-12</td>\n",
              "      <td>New York</td>\n",
              "      <td>36</td>\n",
              "      <td>1164819</td>\n",
              "      <td>39588</td>\n",
              "    </tr>\n",
              "    <tr>\n",
              "      <th>17427</th>\n",
              "      <td>2021-01-13</td>\n",
              "      <td>New York</td>\n",
              "      <td>36</td>\n",
              "      <td>1179523</td>\n",
              "      <td>39760</td>\n",
              "    </tr>\n",
              "    <tr>\n",
              "      <th>17482</th>\n",
              "      <td>2021-01-14</td>\n",
              "      <td>New York</td>\n",
              "      <td>36</td>\n",
              "      <td>1193710</td>\n",
              "      <td>39997</td>\n",
              "    </tr>\n",
              "    <tr>\n",
              "      <th>17537</th>\n",
              "      <td>2021-01-15</td>\n",
              "      <td>New York</td>\n",
              "      <td>36</td>\n",
              "      <td>1213179</td>\n",
              "      <td>40203</td>\n",
              "    </tr>\n",
              "    <tr>\n",
              "      <th>17592</th>\n",
              "      <td>2021-01-16</td>\n",
              "      <td>New York</td>\n",
              "      <td>36</td>\n",
              "      <td>1229124</td>\n",
              "      <td>40376</td>\n",
              "    </tr>\n",
              "  </tbody>\n",
              "</table>\n",
              "</div>"
            ],
            "text/plain": [
              "             date     state  fips    cases  deaths\n",
              "17372  2021-01-12  New York    36  1164819   39588\n",
              "17427  2021-01-13  New York    36  1179523   39760\n",
              "17482  2021-01-14  New York    36  1193710   39997\n",
              "17537  2021-01-15  New York    36  1213179   40203\n",
              "17592  2021-01-16  New York    36  1229124   40376"
            ]
          },
          "metadata": {
            "tags": []
          },
          "execution_count": 14
        }
      ]
    },
    {
      "cell_type": "code",
      "metadata": {
        "id": "vAPsO4Yq1yAj",
        "colab": {
          "base_uri": "https://localhost:8080/"
        },
        "outputId": "dea8bf2b-aa33-41f2-c6c4-712a1ffe105e"
      },
      "source": [
        "df_ny.shape"
      ],
      "execution_count": null,
      "outputs": [
        {
          "output_type": "execute_result",
          "data": {
            "text/plain": [
              "(322, 5)"
            ]
          },
          "metadata": {
            "tags": []
          },
          "execution_count": 50
        }
      ]
    },
    {
      "cell_type": "code",
      "metadata": {
        "id": "XNuZqUlI1096",
        "colab": {
          "base_uri": "https://localhost:8080/",
          "height": 296
        },
        "outputId": "5d882545-1c41-4ab0-c13a-89a5d0e3b48d"
      },
      "source": [
        "sns.scatterplot(data=df_ny , x = \"cases\", y = 'deaths' , color = \"blue\")"
      ],
      "execution_count": null,
      "outputs": [
        {
          "output_type": "execute_result",
          "data": {
            "text/plain": [
              "<matplotlib.axes._subplots.AxesSubplot at 0x7fcaf8f97518>"
            ]
          },
          "metadata": {
            "tags": []
          },
          "execution_count": 15
        },
        {
          "output_type": "display_data",
          "data": {
            "image/png": "[encoded data removed]",
            "text/plain": [
              "<Figure size 432x288 with 1 Axes>"
            ]
          },
          "metadata": {
            "tags": [],
            "needs_background": "light"
          }
        }
      ]
    },
    {
      "cell_type": "code",
      "metadata": {
        "id": "z7sGUFdO2CAo",
        "colab": {
          "base_uri": "https://localhost:8080/",
          "height": 296
        },
        "outputId": "00e29d54-0b1a-42dd-cb41-051f5c0bda1f"
      },
      "source": [
        "sns.barplot(data = df_ny , x= \"date\", y = \"deaths\" , color=\"red\")"
      ],
      "execution_count": null,
      "outputs": [
        {
          "output_type": "execute_result",
          "data": {
            "text/plain": [
              "<matplotlib.axes._subplots.AxesSubplot at 0x7fcaf7f51e48>"
            ]
          },
          "metadata": {
            "tags": []
          },
          "execution_count": 16
        },
        {
          "output_type": "display_data",
          "data": {
            "image/png": "[encoded data removed]",
            "text/plain": [
              "<Figure size 432x288 with 1 Axes>"
            ]
          },
          "metadata": {
            "tags": [],
            "needs_background": "light"
          }
        }
      ]
    },
    {
      "cell_type": "code",
      "metadata": {
        "id": "TNYs0GNm4K5O",
        "colab": {
          "base_uri": "https://localhost:8080/"
        },
        "outputId": "c1fe8616-b345-4439-9ee6-4c6e2f6c545b"
      },
      "source": [
        "df_ny['cases'].mean()"
      ],
      "execution_count": null,
      "outputs": [
        {
          "output_type": "execute_result",
          "data": {
            "text/plain": [
              "447385.50310559006"
            ]
          },
          "metadata": {
            "tags": []
          },
          "execution_count": 17
        }
      ]
    },
    {
      "cell_type": "code",
      "metadata": {
        "colab": {
          "base_uri": "https://localhost:8080/"
        },
        "id": "ykZWGf-yqCVG",
        "outputId": "1289e90d-a391-4cfe-aea2-2a828f006ae8"
      },
      "source": [
        "df_ny['cases'].median()"
      ],
      "execution_count": null,
      "outputs": [
        {
          "output_type": "execute_result",
          "data": {
            "text/plain": [
              "425311.5"
            ]
          },
          "metadata": {
            "tags": []
          },
          "execution_count": 18
        }
      ]
    },
    {
      "cell_type": "markdown",
      "metadata": {
        "id": "vUbZP5tccvEp"
      },
      "source": [
        "**2. Find new covid 19 cases daily basis (new cases added everyday)**"
      ]
    },
    {
      "cell_type": "code",
      "metadata": {
        "id": "g-isLW6s4XaJ",
        "colab": {
          "base_uri": "https://localhost:8080/"
        },
        "outputId": "88cdb3bf-fd51-4515-d0f3-9ad8a6ab4d3a"
      },
      "source": [
        "df_ny.count"
      ],
      "execution_count": null,
      "outputs": [
        {
          "output_type": "execute_result",
          "data": {
            "text/plain": [
              "<bound method DataFrame.count of              date     state  fips    cases  deaths\n",
              "246    2020-03-01  New York    36        1       0\n",
              "261    2020-03-02  New York    36        1       0\n",
              "276    2020-03-03  New York    36        2       0\n",
              "293    2020-03-04  New York    36       11       0\n",
              "313    2020-03-05  New York    36       22       0\n",
              "...           ...       ...   ...      ...     ...\n",
              "17372  2021-01-12  New York    36  1164819   39588\n",
              "17427  2021-01-13  New York    36  1179523   39760\n",
              "17482  2021-01-14  New York    36  1193710   39997\n",
              "17537  2021-01-15  New York    36  1213179   40203\n",
              "17592  2021-01-16  New York    36  1229124   40376\n",
              "\n",
              "[322 rows x 5 columns]>"
            ]
          },
          "metadata": {
            "tags": []
          },
          "execution_count": 40
        }
      ]
    },
    {
      "cell_type": "code",
      "metadata": {
        "id": "zosI03rV3Ut3"
      },
      "source": [
        "df_ny30 = df[df['state'] == 'New York']"
      ],
      "execution_count": null,
      "outputs": []
    },
    {
      "cell_type": "code",
      "metadata": {
        "colab": {
          "base_uri": "https://localhost:8080/"
        },
        "id": "KcVEf2Dr3vt3",
        "outputId": "88cbf815-bdec-47df-dac5-0f71b0158b1b"
      },
      "source": [
        "df_nyy = df[(df['date']>'2020-12-16')& (df['date'] <'2021-01-30')]\r\n",
        "df_ny30 = df_nyy[df_nyy['state'] == 'New York']\r\n",
        "dfcases = df_ny30[\"cases\"]\r\n",
        "\r\n",
        "\r\n",
        "x = -1\r\n",
        "cases =[]\r\n",
        "active = True\r\n",
        "while active:\r\n",
        "  \r\n",
        "  cases.append(dfcases.iloc[x] - dfcases.iloc[(x-1)])\r\n",
        "  x = x +(-1)\r\n",
        "  if x == -30:\r\n",
        "    active = False\r\n",
        "\r\n",
        "print(cases)"
      ],
      "execution_count": null,
      "outputs": [
        {
          "output_type": "stream",
          "text": [
            "[15945, 19469, 14187, 14704, 14791, 14179, 16308, 17839, 19560, 17588, 16016, 13142, 11242, 12232, 15849, 17033, 15393, 12917, 12020, 10334, 8205, 11048, 12881, 13347, 11740, 10299, 9456, 9454, 9913]\n"
          ],
          "name": "stdout"
        }
      ]
    },
    {
      "cell_type": "code",
      "metadata": {
        "colab": {
          "base_uri": "https://localhost:8080/"
        },
        "id": "o6l7g48K3yiW",
        "outputId": "47833917-6e78-49b0-bb8f-03f62d2d3b69"
      },
      "source": [
        "dfdates = df_ny30[\"date\"]\r\n",
        "\r\n",
        "dfdates\r\n",
        "\r\n",
        "x = -1\r\n",
        "dates =[]\r\n",
        "active = True\r\n",
        "while active:\r\n",
        "  \r\n",
        "  dates.append(dfdates.iloc[x])\r\n",
        "  x = x +(-1)\r\n",
        "  if x == -30:\r\n",
        "    active = False\r\n",
        "\r\n",
        "print(dates)"
      ],
      "execution_count": null,
      "outputs": [
        {
          "output_type": "stream",
          "text": [
            "['2021-01-16', '2021-01-15', '2021-01-14', '2021-01-13', '2021-01-12', '2021-01-11', '2021-01-10', '2021-01-09', '2021-01-08', '2021-01-07', '2021-01-06', '2021-01-05', '2021-01-04', '2021-01-03', '2021-01-02', '2021-01-01', '2020-12-31', '2020-12-30', '2020-12-29', '2020-12-28', '2020-12-27', '2020-12-26', '2020-12-25', '2020-12-24', '2020-12-23', '2020-12-22', '2020-12-21', '2020-12-20', '2020-12-19']\n"
          ],
          "name": "stdout"
        }
      ]
    },
    {
      "cell_type": "code",
      "metadata": {
        "colab": {
          "base_uri": "https://localhost:8080/"
        },
        "id": "jwoG_D_-305f",
        "outputId": "fe7a668a-543b-4611-fcb9-9aade2fb8ab1"
      },
      "source": [
        "y = 0\r\n",
        "active = True\r\n",
        "while active:\r\n",
        "  print( \" There are \" + str(cases[y]) + \" new cases on \" + str(dates[y]) + \".\")\r\n",
        "  y = y + 1\r\n",
        "  if y == 29:\r\n",
        "    active = False"
      ],
      "execution_count": null,
      "outputs": [
        {
          "output_type": "stream",
          "text": [
            " There are 15945 new cases on 2021-01-16.\n",
            " There are 19469 new cases on 2021-01-15.\n",
            " There are 14187 new cases on 2021-01-14.\n",
            " There are 14704 new cases on 2021-01-13.\n",
            " There are 14791 new cases on 2021-01-12.\n",
            " There are 14179 new cases on 2021-01-11.\n",
            " There are 16308 new cases on 2021-01-10.\n",
            " There are 17839 new cases on 2021-01-09.\n",
            " There are 19560 new cases on 2021-01-08.\n",
            " There are 17588 new cases on 2021-01-07.\n",
            " There are 16016 new cases on 2021-01-06.\n",
            " There are 13142 new cases on 2021-01-05.\n",
            " There are 11242 new cases on 2021-01-04.\n",
            " There are 12232 new cases on 2021-01-03.\n",
            " There are 15849 new cases on 2021-01-02.\n",
            " There are 17033 new cases on 2021-01-01.\n",
            " There are 15393 new cases on 2020-12-31.\n",
            " There are 12917 new cases on 2020-12-30.\n",
            " There are 12020 new cases on 2020-12-29.\n",
            " There are 10334 new cases on 2020-12-28.\n",
            " There are 8205 new cases on 2020-12-27.\n",
            " There are 11048 new cases on 2020-12-26.\n",
            " There are 12881 new cases on 2020-12-25.\n",
            " There are 13347 new cases on 2020-12-24.\n",
            " There are 11740 new cases on 2020-12-23.\n",
            " There are 10299 new cases on 2020-12-22.\n",
            " There are 9456 new cases on 2020-12-21.\n",
            " There are 9454 new cases on 2020-12-20.\n",
            " There are 9913 new cases on 2020-12-19.\n"
          ],
          "name": "stdout"
        }
      ]
    },
    {
      "cell_type": "code",
      "metadata": {
        "id": "QDc2omEP_-qS",
        "colab": {
          "base_uri": "https://localhost:8080/"
        },
        "outputId": "b4f23ea5-1e84-416f-f3f2-011778050ce0"
      },
      "source": [
        "x = -1\r\n",
        "dates =[]\r\n",
        "cases =[]\r\n",
        "active = True\r\n",
        "while active:\r\n",
        "  \r\n",
        "  dates.append(dfdates.iloc[x])\r\n",
        "  cases.append(dfcases.iloc[x] - dfcases.iloc[(x-1)])\r\n",
        "  x = x +(-1)\r\n",
        "  if x == -2:\r\n",
        "    active = False\r\n",
        "\r\n",
        "print(\"On \" +  str(dates[0]) + \" there are \" + str(cases[0]) + \" new cases.\")"
      ],
      "execution_count": null,
      "outputs": [
        {
          "output_type": "stream",
          "text": [
            "On 2021-01-16 there are 15945 new cases.\n"
          ],
          "name": "stdout"
        }
      ]
    },
    {
      "cell_type": "code",
      "metadata": {
        "id": "-PtteplsAWT-"
      },
      "source": [
        ""
      ],
      "execution_count": null,
      "outputs": []
    },
    {
      "cell_type": "markdown",
      "metadata": {
        "id": "IKuLfv3SF27O"
      },
      "source": [
        "# Task4: Understand NY covid 19 data in last 30 days"
      ]
    },
    {
      "cell_type": "code",
      "metadata": {
        "id": "280y4sHrAyuk"
      },
      "source": [
        "df_ny30 = df[df['state'] == 'New York']"
      ],
      "execution_count": null,
      "outputs": []
    },
    {
      "cell_type": "code",
      "metadata": {
        "colab": {
          "base_uri": "https://localhost:8080/",
          "height": 965
        },
        "id": "1B7IpK9nKWpY",
        "outputId": "97219dd5-4602-42a3-b892-0d16f26bf538"
      },
      "source": [
        "df_nyy = df[(df['date']>'2020-12-16')& (df['date'] <'2021-01-30')]\r\n",
        "df_ny30 = df_nyy[df_nyy['state'] == 'New York']\r\n",
        "df_ny30\r\n",
        "\r\n"
      ],
      "execution_count": null,
      "outputs": [
        {
          "output_type": "execute_result",
          "data": {
            "text/html": [
              "<div>\n",
              "<style scoped>\n",
              "    .dataframe tbody tr th:only-of-type {\n",
              "        vertical-align: middle;\n",
              "    }\n",
              "\n",
              "    .dataframe tbody tr th {\n",
              "        vertical-align: top;\n",
              "    }\n",
              "\n",
              "    .dataframe thead th {\n",
              "        text-align: right;\n",
              "    }\n",
              "</style>\n",
              "<table border=\"1\" class=\"dataframe\">\n",
              "  <thead>\n",
              "    <tr style=\"text-align: right;\">\n",
              "      <th></th>\n",
              "      <th>date</th>\n",
              "      <th>state</th>\n",
              "      <th>fips</th>\n",
              "      <th>cases</th>\n",
              "      <th>deaths</th>\n",
              "    </tr>\n",
              "  </thead>\n",
              "  <tbody>\n",
              "    <tr>\n",
              "      <th>15942</th>\n",
              "      <td>2020-12-17</td>\n",
              "      <td>New York</td>\n",
              "      <td>36</td>\n",
              "      <td>819427</td>\n",
              "      <td>35647</td>\n",
              "    </tr>\n",
              "    <tr>\n",
              "      <th>15997</th>\n",
              "      <td>2020-12-18</td>\n",
              "      <td>New York</td>\n",
              "      <td>36</td>\n",
              "      <td>832033</td>\n",
              "      <td>35775</td>\n",
              "    </tr>\n",
              "    <tr>\n",
              "      <th>16052</th>\n",
              "      <td>2020-12-19</td>\n",
              "      <td>New York</td>\n",
              "      <td>36</td>\n",
              "      <td>841946</td>\n",
              "      <td>35897</td>\n",
              "    </tr>\n",
              "    <tr>\n",
              "      <th>16107</th>\n",
              "      <td>2020-12-20</td>\n",
              "      <td>New York</td>\n",
              "      <td>36</td>\n",
              "      <td>851400</td>\n",
              "      <td>36017</td>\n",
              "    </tr>\n",
              "    <tr>\n",
              "      <th>16162</th>\n",
              "      <td>2020-12-21</td>\n",
              "      <td>New York</td>\n",
              "      <td>36</td>\n",
              "      <td>860856</td>\n",
              "      <td>36147</td>\n",
              "    </tr>\n",
              "    <tr>\n",
              "      <th>16217</th>\n",
              "      <td>2020-12-22</td>\n",
              "      <td>New York</td>\n",
              "      <td>36</td>\n",
              "      <td>871155</td>\n",
              "      <td>36300</td>\n",
              "    </tr>\n",
              "    <tr>\n",
              "      <th>16272</th>\n",
              "      <td>2020-12-23</td>\n",
              "      <td>New York</td>\n",
              "      <td>36</td>\n",
              "      <td>882895</td>\n",
              "      <td>36454</td>\n",
              "    </tr>\n",
              "    <tr>\n",
              "      <th>16327</th>\n",
              "      <td>2020-12-24</td>\n",
              "      <td>New York</td>\n",
              "      <td>36</td>\n",
              "      <td>896242</td>\n",
              "      <td>36604</td>\n",
              "    </tr>\n",
              "    <tr>\n",
              "      <th>16382</th>\n",
              "      <td>2020-12-25</td>\n",
              "      <td>New York</td>\n",
              "      <td>36</td>\n",
              "      <td>909123</td>\n",
              "      <td>36739</td>\n",
              "    </tr>\n",
              "    <tr>\n",
              "      <th>16437</th>\n",
              "      <td>2020-12-26</td>\n",
              "      <td>New York</td>\n",
              "      <td>36</td>\n",
              "      <td>920171</td>\n",
              "      <td>36870</td>\n",
              "    </tr>\n",
              "    <tr>\n",
              "      <th>16492</th>\n",
              "      <td>2020-12-27</td>\n",
              "      <td>New York</td>\n",
              "      <td>36</td>\n",
              "      <td>928376</td>\n",
              "      <td>37000</td>\n",
              "    </tr>\n",
              "    <tr>\n",
              "      <th>16547</th>\n",
              "      <td>2020-12-28</td>\n",
              "      <td>New York</td>\n",
              "      <td>36</td>\n",
              "      <td>938710</td>\n",
              "      <td>37118</td>\n",
              "    </tr>\n",
              "    <tr>\n",
              "      <th>16602</th>\n",
              "      <td>2020-12-29</td>\n",
              "      <td>New York</td>\n",
              "      <td>36</td>\n",
              "      <td>950730</td>\n",
              "      <td>37256</td>\n",
              "    </tr>\n",
              "    <tr>\n",
              "      <th>16657</th>\n",
              "      <td>2020-12-30</td>\n",
              "      <td>New York</td>\n",
              "      <td>36</td>\n",
              "      <td>963647</td>\n",
              "      <td>37412</td>\n",
              "    </tr>\n",
              "    <tr>\n",
              "      <th>16712</th>\n",
              "      <td>2020-12-31</td>\n",
              "      <td>New York</td>\n",
              "      <td>36</td>\n",
              "      <td>979040</td>\n",
              "      <td>37557</td>\n",
              "    </tr>\n",
              "    <tr>\n",
              "      <th>16767</th>\n",
              "      <td>2021-01-01</td>\n",
              "      <td>New York</td>\n",
              "      <td>36</td>\n",
              "      <td>996073</td>\n",
              "      <td>37733</td>\n",
              "    </tr>\n",
              "    <tr>\n",
              "      <th>16822</th>\n",
              "      <td>2021-01-02</td>\n",
              "      <td>New York</td>\n",
              "      <td>36</td>\n",
              "      <td>1011922</td>\n",
              "      <td>37854</td>\n",
              "    </tr>\n",
              "    <tr>\n",
              "      <th>16877</th>\n",
              "      <td>2021-01-03</td>\n",
              "      <td>New York</td>\n",
              "      <td>36</td>\n",
              "      <td>1024154</td>\n",
              "      <td>38001</td>\n",
              "    </tr>\n",
              "    <tr>\n",
              "      <th>16932</th>\n",
              "      <td>2021-01-04</td>\n",
              "      <td>New York</td>\n",
              "      <td>36</td>\n",
              "      <td>1035396</td>\n",
              "      <td>38167</td>\n",
              "    </tr>\n",
              "    <tr>\n",
              "      <th>16987</th>\n",
              "      <td>2021-01-05</td>\n",
              "      <td>New York</td>\n",
              "      <td>36</td>\n",
              "      <td>1048538</td>\n",
              "      <td>38315</td>\n",
              "    </tr>\n",
              "    <tr>\n",
              "      <th>17042</th>\n",
              "      <td>2021-01-06</td>\n",
              "      <td>New York</td>\n",
              "      <td>36</td>\n",
              "      <td>1064554</td>\n",
              "      <td>38486</td>\n",
              "    </tr>\n",
              "    <tr>\n",
              "      <th>17097</th>\n",
              "      <td>2021-01-07</td>\n",
              "      <td>New York</td>\n",
              "      <td>36</td>\n",
              "      <td>1082142</td>\n",
              "      <td>38683</td>\n",
              "    </tr>\n",
              "    <tr>\n",
              "      <th>17152</th>\n",
              "      <td>2021-01-08</td>\n",
              "      <td>New York</td>\n",
              "      <td>36</td>\n",
              "      <td>1101702</td>\n",
              "      <td>38846</td>\n",
              "    </tr>\n",
              "    <tr>\n",
              "      <th>17207</th>\n",
              "      <td>2021-01-09</td>\n",
              "      <td>New York</td>\n",
              "      <td>36</td>\n",
              "      <td>1119541</td>\n",
              "      <td>39041</td>\n",
              "    </tr>\n",
              "    <tr>\n",
              "      <th>17262</th>\n",
              "      <td>2021-01-10</td>\n",
              "      <td>New York</td>\n",
              "      <td>36</td>\n",
              "      <td>1135849</td>\n",
              "      <td>39208</td>\n",
              "    </tr>\n",
              "    <tr>\n",
              "      <th>17317</th>\n",
              "      <td>2021-01-11</td>\n",
              "      <td>New York</td>\n",
              "      <td>36</td>\n",
              "      <td>1150028</td>\n",
              "      <td>39404</td>\n",
              "    </tr>\n",
              "    <tr>\n",
              "      <th>17372</th>\n",
              "      <td>2021-01-12</td>\n",
              "      <td>New York</td>\n",
              "      <td>36</td>\n",
              "      <td>1164819</td>\n",
              "      <td>39588</td>\n",
              "    </tr>\n",
              "    <tr>\n",
              "      <th>17427</th>\n",
              "      <td>2021-01-13</td>\n",
              "      <td>New York</td>\n",
              "      <td>36</td>\n",
              "      <td>1179523</td>\n",
              "      <td>39760</td>\n",
              "    </tr>\n",
              "    <tr>\n",
              "      <th>17482</th>\n",
              "      <td>2021-01-14</td>\n",
              "      <td>New York</td>\n",
              "      <td>36</td>\n",
              "      <td>1193710</td>\n",
              "      <td>39997</td>\n",
              "    </tr>\n",
              "    <tr>\n",
              "      <th>17537</th>\n",
              "      <td>2021-01-15</td>\n",
              "      <td>New York</td>\n",
              "      <td>36</td>\n",
              "      <td>1213179</td>\n",
              "      <td>40203</td>\n",
              "    </tr>\n",
              "    <tr>\n",
              "      <th>17592</th>\n",
              "      <td>2021-01-16</td>\n",
              "      <td>New York</td>\n",
              "      <td>36</td>\n",
              "      <td>1229124</td>\n",
              "      <td>40376</td>\n",
              "    </tr>\n",
              "  </tbody>\n",
              "</table>\n",
              "</div>"
            ],
            "text/plain": [
              "             date     state  fips    cases  deaths\n",
              "15942  2020-12-17  New York    36   819427   35647\n",
              "15997  2020-12-18  New York    36   832033   35775\n",
              "16052  2020-12-19  New York    36   841946   35897\n",
              "16107  2020-12-20  New York    36   851400   36017\n",
              "16162  2020-12-21  New York    36   860856   36147\n",
              "16217  2020-12-22  New York    36   871155   36300\n",
              "16272  2020-12-23  New York    36   882895   36454\n",
              "16327  2020-12-24  New York    36   896242   36604\n",
              "16382  2020-12-25  New York    36   909123   36739\n",
              "16437  2020-12-26  New York    36   920171   36870\n",
              "16492  2020-12-27  New York    36   928376   37000\n",
              "16547  2020-12-28  New York    36   938710   37118\n",
              "16602  2020-12-29  New York    36   950730   37256\n",
              "16657  2020-12-30  New York    36   963647   37412\n",
              "16712  2020-12-31  New York    36   979040   37557\n",
              "16767  2021-01-01  New York    36   996073   37733\n",
              "16822  2021-01-02  New York    36  1011922   37854\n",
              "16877  2021-01-03  New York    36  1024154   38001\n",
              "16932  2021-01-04  New York    36  1035396   38167\n",
              "16987  2021-01-05  New York    36  1048538   38315\n",
              "17042  2021-01-06  New York    36  1064554   38486\n",
              "17097  2021-01-07  New York    36  1082142   38683\n",
              "17152  2021-01-08  New York    36  1101702   38846\n",
              "17207  2021-01-09  New York    36  1119541   39041\n",
              "17262  2021-01-10  New York    36  1135849   39208\n",
              "17317  2021-01-11  New York    36  1150028   39404\n",
              "17372  2021-01-12  New York    36  1164819   39588\n",
              "17427  2021-01-13  New York    36  1179523   39760\n",
              "17482  2021-01-14  New York    36  1193710   39997\n",
              "17537  2021-01-15  New York    36  1213179   40203\n",
              "17592  2021-01-16  New York    36  1229124   40376"
            ]
          },
          "metadata": {
            "tags": []
          },
          "execution_count": 47
        }
      ]
    },
    {
      "cell_type": "code",
      "metadata": {
        "colab": {
          "base_uri": "https://localhost:8080/"
        },
        "id": "IzPh-ju1UlGT",
        "outputId": "65f377f3-bb7d-4edf-e207-48407b99c8d3"
      },
      "source": [
        " df_ny30drecent =  df_ny30[df_ny30['date']=='2021-01-15']\r\n",
        " df_ny30dold =  df_ny30[df_ny30['date']=='2020-12-17']\r\n",
        "\r\n",
        "death_change = int(df_ny30drecent[\"deaths\"]) - int(df_ny30dold[\"deaths\"])\r\n",
        "death_change_percent = (death_change / int(df_ny30dold[\"deaths\"]))*100\r\n",
        "death_change_percentr = round(death_change_percent, 2)\r\n",
        "print( str(death_change)  + \" more deaths from 12/17 to 01/15.\")\r\n",
        "print(str(death_change_percentr) + \"% of deaths increased from 12/17 to 01/15.\")\r\n"
      ],
      "execution_count": null,
      "outputs": [
        {
          "output_type": "stream",
          "text": [
            "4556 more deaths from 12/17 to 01/15.\n",
            "12.78% of deaths increased from 12/17 to 01/15.\n"
          ],
          "name": "stdout"
        }
      ]
    },
    {
      "cell_type": "code",
      "metadata": {
        "colab": {
          "base_uri": "https://localhost:8080/"
        },
        "id": "TY1h--QCWa1H",
        "outputId": "ab240694-8d7b-4c11-817e-c44f71bf669d"
      },
      "source": [
        "df_ny30crecent =  df_ny30[df_ny30['date']=='2021-01-15']\r\n",
        "df_ny30cold =  df_ny30[df_ny30['date']=='2020-12-17']\r\n",
        "\r\n",
        "case_change = int(df_ny30crecent[\"cases\"]) - int(df_ny30cold[\"cases\"])\r\n",
        "case_change_percent = (case_change / int(df_ny30dold[\"deaths\"]))*100\r\n",
        "case_change_percentr = round(case_change_percent, 2)\r\n",
        "print( str(case_change)  + \" more cases from 12/17 to 01/15.\")\r\n",
        "print(str(case_change_percentr) + \"% of cases increased from 12/17 to 01/15.\")"
      ],
      "execution_count": null,
      "outputs": [
        {
          "output_type": "stream",
          "text": [
            "393752 more cases from 12/17 to 01/15.\n",
            "1104.59% of cases increased from 12/17 to 01/15.\n"
          ],
          "name": "stdout"
        }
      ]
    },
    {
      "cell_type": "code",
      "metadata": {
        "colab": {
          "base_uri": "https://localhost:8080/",
          "height": 296
        },
        "id": "E7cy1JNCPvmY",
        "outputId": "b48591c7-ab4c-4cd5-a915-3b7874691793"
      },
      "source": [
        "sns.barplot(data = df_ny30 , x= \"date\", y = \"deaths\" , color=\"red\")"
      ],
      "execution_count": null,
      "outputs": [
        {
          "output_type": "execute_result",
          "data": {
            "text/plain": [
              "<matplotlib.axes._subplots.AxesSubplot at 0x7fcaf74b06d8>"
            ]
          },
          "metadata": {
            "tags": []
          },
          "execution_count": 50
        },
        {
          "output_type": "display_data",
          "data": {
            "image/png": "[encoded data removed]",
            "text/plain": [
              "<Figure size 432x288 with 1 Axes>"
            ]
          },
          "metadata": {
            "tags": [],
            "needs_background": "light"
          }
        }
      ]
    },
    {
      "cell_type": "code",
      "metadata": {
        "colab": {
          "base_uri": "https://localhost:8080/",
          "height": 296
        },
        "id": "qbVSpZzQSL69",
        "outputId": "55ee5399-1c3a-4c35-893e-06fa14207031"
      },
      "source": [
        "sns.scatterplot(data=df_ny30 , x = \"cases\", y = 'deaths' , color = \"green\")"
      ],
      "execution_count": null,
      "outputs": [
        {
          "output_type": "execute_result",
          "data": {
            "text/plain": [
              "<matplotlib.axes._subplots.AxesSubplot at 0x7fcaf70ed2e8>"
            ]
          },
          "metadata": {
            "tags": []
          },
          "execution_count": 51
        },
        {
          "output_type": "display_data",
          "data": {
            "image/png": "[encoded data removed]",
            "text/plain": [
              "<Figure size 432x288 with 1 Axes>"
            ]
          },
          "metadata": {
            "tags": [],
            "needs_background": "light"
          }
        }
      ]
    },
    {
      "cell_type": "markdown",
      "metadata": {
        "id": "PtjNZZmOdAhy"
      },
      "source": [
        "# Task5: Comparing Covid 19 data with different states"
      ]
    },
    {
      "cell_type": "markdown",
      "metadata": {
        "id": "HInHQMh0dHvu"
      },
      "source": [
        "**Let's compare the Covid 19 cases after July for states: New York, California, Florida, Texas, Arizona**"
      ]
    },
    {
      "cell_type": "code",
      "metadata": {
        "colab": {
          "base_uri": "https://localhost:8080/",
          "height": 204
        },
        "id": "nYqExAqKPLMY",
        "outputId": "bf627ff6-f4ce-47cf-abfa-f53365286ac6"
      },
      "source": [
        "df.query(\"state== 'California' or state == 'New York' or state == 'Arizona' or state == 'Florida' or state == 'Texas'\")\n",
        "df2=df.query(\"state== 'California' or state == 'New York' or state == 'Arizona' or state == 'Florida' or state == 'Texas'\")\n",
        "df2=df2[(df2['date']>'2020-06-30')& (df2['date'] <'2021-01-01')]\n",
        "drop_col = ['fips']\n",
        "df2.drop(drop_col, inplace= True, axis=1)\n",
        "df2\n",
        "df2.head()\n"
      ],
      "execution_count": null,
      "outputs": [
        {
          "output_type": "execute_result",
          "data": {
            "text/html": [
              "<div>\n",
              "<style scoped>\n",
              "    .dataframe tbody tr th:only-of-type {\n",
              "        vertical-align: middle;\n",
              "    }\n",
              "\n",
              "    .dataframe tbody tr th {\n",
              "        vertical-align: top;\n",
              "    }\n",
              "\n",
              "    .dataframe thead th {\n",
              "        text-align: right;\n",
              "    }\n",
              "</style>\n",
              "<table border=\"1\" class=\"dataframe\">\n",
              "  <thead>\n",
              "    <tr style=\"text-align: right;\">\n",
              "      <th></th>\n",
              "      <th>date</th>\n",
              "      <th>state</th>\n",
              "      <th>cases</th>\n",
              "      <th>deaths</th>\n",
              "    </tr>\n",
              "  </thead>\n",
              "  <tbody>\n",
              "    <tr>\n",
              "      <th>6616</th>\n",
              "      <td>2020-07-01</td>\n",
              "      <td>Arizona</td>\n",
              "      <td>84152</td>\n",
              "      <td>1726</td>\n",
              "    </tr>\n",
              "    <tr>\n",
              "      <th>6618</th>\n",
              "      <td>2020-07-01</td>\n",
              "      <td>California</td>\n",
              "      <td>239764</td>\n",
              "      <td>6168</td>\n",
              "    </tr>\n",
              "    <tr>\n",
              "      <th>6623</th>\n",
              "      <td>2020-07-01</td>\n",
              "      <td>Florida</td>\n",
              "      <td>158989</td>\n",
              "      <td>3549</td>\n",
              "    </tr>\n",
              "    <tr>\n",
              "      <th>6647</th>\n",
              "      <td>2020-07-01</td>\n",
              "      <td>New York</td>\n",
              "      <td>398770</td>\n",
              "      <td>31791</td>\n",
              "    </tr>\n",
              "    <tr>\n",
              "      <th>6660</th>\n",
              "      <td>2020-07-01</td>\n",
              "      <td>Texas</td>\n",
              "      <td>174826</td>\n",
              "      <td>2518</td>\n",
              "    </tr>\n",
              "  </tbody>\n",
              "</table>\n",
              "</div>"
            ],
            "text/plain": [
              "            date       state   cases  deaths\n",
              "6616  2020-07-01     Arizona   84152    1726\n",
              "6618  2020-07-01  California  239764    6168\n",
              "6623  2020-07-01     Florida  158989    3549\n",
              "6647  2020-07-01    New York  398770   31791\n",
              "6660  2020-07-01       Texas  174826    2518"
            ]
          },
          "metadata": {
            "tags": []
          },
          "execution_count": 10
        }
      ]
    },
    {
      "cell_type": "code",
      "metadata": {
        "colab": {
          "base_uri": "https://localhost:8080/",
          "height": 204
        },
        "id": "v8V9tssJOegm",
        "outputId": "80083ede-0b58-48a2-fc7a-1c1917f70e2e"
      },
      "source": [
        "def us_states(row):\n",
        "    if row['state'] == 'New York':\n",
        "        return 'NY'\n",
        "    elif row['state'] == 'Florida':\n",
        "        return 'FL'\n",
        "    elif row['state'] == 'California':\n",
        "        return 'CA'\n",
        "    elif row['state'] == 'Texas':\n",
        "        return 'TX'\n",
        "    elif row['state'] == 'Arizona':\n",
        "        return 'AZ'\n",
        "    else:\n",
        "        return 'N/A'\n",
        "# apply to dataframe, use axis=1 to apply the function to every row\n",
        "df2['us_states'] = df.apply(us_states, axis=1)\n",
        "df2.head()\n",
        "\n",
        "       "
      ],
      "execution_count": null,
      "outputs": [
        {
          "output_type": "execute_result",
          "data": {
            "text/html": [
              "<div>\n",
              "<style scoped>\n",
              "    .dataframe tbody tr th:only-of-type {\n",
              "        vertical-align: middle;\n",
              "    }\n",
              "\n",
              "    .dataframe tbody tr th {\n",
              "        vertical-align: top;\n",
              "    }\n",
              "\n",
              "    .dataframe thead th {\n",
              "        text-align: right;\n",
              "    }\n",
              "</style>\n",
              "<table border=\"1\" class=\"dataframe\">\n",
              "  <thead>\n",
              "    <tr style=\"text-align: right;\">\n",
              "      <th></th>\n",
              "      <th>date</th>\n",
              "      <th>state</th>\n",
              "      <th>cases</th>\n",
              "      <th>deaths</th>\n",
              "      <th>us_states</th>\n",
              "    </tr>\n",
              "  </thead>\n",
              "  <tbody>\n",
              "    <tr>\n",
              "      <th>6616</th>\n",
              "      <td>2020-07-01</td>\n",
              "      <td>Arizona</td>\n",
              "      <td>84152</td>\n",
              "      <td>1726</td>\n",
              "      <td>AZ</td>\n",
              "    </tr>\n",
              "    <tr>\n",
              "      <th>6618</th>\n",
              "      <td>2020-07-01</td>\n",
              "      <td>California</td>\n",
              "      <td>239764</td>\n",
              "      <td>6168</td>\n",
              "      <td>CA</td>\n",
              "    </tr>\n",
              "    <tr>\n",
              "      <th>6623</th>\n",
              "      <td>2020-07-01</td>\n",
              "      <td>Florida</td>\n",
              "      <td>158989</td>\n",
              "      <td>3549</td>\n",
              "      <td>FL</td>\n",
              "    </tr>\n",
              "    <tr>\n",
              "      <th>6647</th>\n",
              "      <td>2020-07-01</td>\n",
              "      <td>New York</td>\n",
              "      <td>398770</td>\n",
              "      <td>31791</td>\n",
              "      <td>NY</td>\n",
              "    </tr>\n",
              "    <tr>\n",
              "      <th>6660</th>\n",
              "      <td>2020-07-01</td>\n",
              "      <td>Texas</td>\n",
              "      <td>174826</td>\n",
              "      <td>2518</td>\n",
              "      <td>TX</td>\n",
              "    </tr>\n",
              "  </tbody>\n",
              "</table>\n",
              "</div>"
            ],
            "text/plain": [
              "            date       state   cases  deaths us_states\n",
              "6616  2020-07-01     Arizona   84152    1726        AZ\n",
              "6618  2020-07-01  California  239764    6168        CA\n",
              "6623  2020-07-01     Florida  158989    3549        FL\n",
              "6647  2020-07-01    New York  398770   31791        NY\n",
              "6660  2020-07-01       Texas  174826    2518        TX"
            ]
          },
          "metadata": {
            "tags": []
          },
          "execution_count": 11
        }
      ]
    },
    {
      "cell_type": "code",
      "metadata": {
        "id": "I6gUamy1RHSv",
        "colab": {
          "base_uri": "https://localhost:8080/",
          "height": 391
        },
        "outputId": "60cd46f4-690e-417c-ff77-90eedb4b7907"
      },
      "source": [
        "sns.pairplot(x_vars=[\"us_states\"], data=df2)\n"
      ],
      "execution_count": null,
      "outputs": [
        {
          "output_type": "execute_result",
          "data": {
            "text/plain": [
              "<seaborn.axisgrid.PairGrid at 0x7fca91aabc18>"
            ]
          },
          "metadata": {
            "tags": []
          },
          "execution_count": 12
        },
        {
          "output_type": "display_data",
          "data": {
            "image/png": "[encoded data removed]",
            "text/plain": [
              "<Figure size 180x360 with 2 Axes>"
            ]
          },
          "metadata": {
            "tags": [],
            "needs_background": "light"
          }
        }
      ]
    },
    {
      "cell_type": "code",
      "metadata": {
        "id": "h1N0Q6c1Nx6t"
      },
      "source": [
        ""
      ],
      "execution_count": null,
      "outputs": []
    },
    {
      "cell_type": "markdown",
      "metadata": {
        "id": "Hwch-J5PIHA1"
      },
      "source": [
        "# Task6: Conclusion"
      ]
    },
    {
      "cell_type": "markdown",
      "metadata": {
        "id": "mgvOvnOuJT4v"
      },
      "source": [
        ""
      ]
    },
    {
      "cell_type": "markdown",
      "metadata": {
        "id": "sOZgtFrsYraG"
      },
      "source": [
        "Conclusion 1 : Task4: Understand NY covid 19 data in last 30 days\r\n",
        "\r\n",
        "Over the last 30 days in New York City, we continue to see both deaths and cases are raising daily, at least over **8000+** new cases were reported. COVID -19 has been affecting us since early March but we are still seeing a positive relationship between deaths and cases over the last 30 days. As cases increase, deaths also increase. Lastly, as of 01-15-2021, there were a total of 1,213,179 cases, and 40,203 deaths. Compared to 30 days ago, 12-17-2020 ( **819,427** cases , **35,647** deaths), there were **4,556** more deaths, a **12.78%** increase and **393752** more cases, a **1104.59%** increase!!! "
      ]
    },
    {
      "cell_type": "markdown",
      "metadata": {
        "id": "ukbYS5P1oEAS"
      },
      "source": [
        "Conclusion 2: Task 5:\n",
        "\n",
        "It's clear from the comparison of New York, Florida, California, Texas, and Arizona that in the summer months the Covid-19 cases were very minimal. We can observe that as the fall and winter approached the cases began to rise to heights that reflected the original Covid-19 outbreak back in early 2020. Of course, as the cases began to rise, deaths also increased. When looking at the graph we can see that New York is far above the other four states in terms of deaths but that California had the most rapid increase of cases from July 1st 2020 to December 31st, 2020. It would be interesting to look into what caused this surge. Also, given that both California and NY are states with very large cities I think a comparison of government policies of both states could be very revealing.\n",
        "\n"
      ]
    }
  ]
}