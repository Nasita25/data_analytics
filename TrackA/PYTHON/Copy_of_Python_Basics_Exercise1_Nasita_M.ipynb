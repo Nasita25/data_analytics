{
  "nbformat": 4,
  "nbformat_minor": 0,
  "metadata": {
    "colab": {
      "name": "Copy of Python_Basics_Exercise1. Nasita M",
      "provenance": [],
      "collapsed_sections": [],
      "include_colab_link": true
    },
    "kernelspec": {
      "name": "python3",
      "display_name": "Python 3"
    }
  },
  "cells": [
    {
      "cell_type": "markdown",
      "metadata": {
        "id": "view-in-github",
        "colab_type": "text"
      },
      "source": [
        "<a href=\"https://colab.research.google.com/github/Nasita25/data_analytics/blob/main/TrackA/PYTHON/Copy_of_Python_Basics_Exercise1_Nasita_M.ipynb\" target=\"_parent\"><img src=\"https://colab.research.google.com/assets/colab-badge.svg\" alt=\"Open In Colab\"/></a>"
      ]
    },
    {
      "cell_type": "markdown",
      "metadata": {
        "id": "g3-tSKRt_mkM"
      },
      "source": [
        "**PYTHON EXERCISE FOR PRACTICE**"
      ]
    },
    {
      "cell_type": "code",
      "metadata": {
        "id": "S7vHBSoloHl5"
      },
      "source": [
        ""
      ],
      "execution_count": null,
      "outputs": []
    },
    {
      "cell_type": "markdown",
      "metadata": {
        "id": "bC_6Uz7DBqBH"
      },
      "source": [
        "**1: Given a two integer numbers return their product and  if the product is greater than 1000, then return their sum**\r\n",
        "\r\n",
        "number1 = 20\r\n",
        "\r\n",
        "number2 = 30"
      ]
    },
    {
      "cell_type": "code",
      "metadata": {
        "id": "HKa8yElOCEhb",
        "colab": {
          "base_uri": "https://localhost:8080/"
        },
        "outputId": "6aff32d0-2b2f-4918-86f5-5039734f4a99"
      },
      "source": [
        "def multiplication_or_sum(num1, num2):\n",
        "    product = num1 * num2\n",
        "    if product <= 1000:\n",
        "        return product\n",
        "    else:\n",
        "        return num1 + num2\n",
        "\n",
        "number1 = 20\n",
        "number2 = 30\n",
        "\n",
        "print(\"\\n\")\n",
        "result = multiplication_or_sum(number1, number2)\n",
        "print(\"The result is\", result)\n"
      ],
      "execution_count": null,
      "outputs": [
        {
          "output_type": "stream",
          "text": [
            "\n",
            "\n",
            "The result is 600\n"
          ],
          "name": "stdout"
        }
      ]
    },
    {
      "cell_type": "markdown",
      "metadata": {
        "id": "gi4_I_PzCG8b"
      },
      "source": [
        "**2: Given a range of first 10 numbers, Iterate from start number to the end number and print the sum of the current number and previous number.**"
      ]
    },
    {
      "cell_type": "code",
      "metadata": {
        "id": "kEiCkup1CPI-",
        "colab": {
          "base_uri": "https://localhost:8080/"
        },
        "outputId": "fea38765-4f3e-4016-9129-68adcd77f5c7"
      },
      "source": [
        "def sumNum(num):\n",
        "    previousNum = 0\n",
        "    for i in range(num):\n",
        "        sum = previousNum + i\n",
        "        print(\"Current Number\", i, \"Previous Number \", previousNum,\" Sum: \", sum)\n",
        "        previousNum = i\n",
        "\n",
        "print(\"Printing current and previous number sum in a given range(10)\")\n",
        "sumNum(10)"
      ],
      "execution_count": null,
      "outputs": [
        {
          "output_type": "stream",
          "text": [
            "Printing current and previous number sum in a given range(10)\n",
            "Current Number 0 Previous Number  0  Sum:  0\n",
            "Current Number 1 Previous Number  0  Sum:  1\n",
            "Current Number 2 Previous Number  1  Sum:  3\n",
            "Current Number 3 Previous Number  2  Sum:  5\n",
            "Current Number 4 Previous Number  3  Sum:  7\n",
            "Current Number 5 Previous Number  4  Sum:  9\n",
            "Current Number 6 Previous Number  5  Sum:  11\n",
            "Current Number 7 Previous Number  6  Sum:  13\n",
            "Current Number 8 Previous Number  7  Sum:  15\n",
            "Current Number 9 Previous Number  8  Sum:  17\n"
          ],
          "name": "stdout"
        }
      ]
    },
    {
      "cell_type": "markdown",
      "metadata": {
        "id": "TC9qS9y1CXub"
      },
      "source": [
        "**3: In the string \"pynative\", display only those characters which are present at an even index number.**"
      ]
    },
    {
      "cell_type": "code",
      "metadata": {
        "id": "17A-ii0WVBqb",
        "colab": {
          "base_uri": "https://localhost:8080/"
        },
        "outputId": "3fa30f4a-b4ed-4cd7-92d2-1220a0a77b5d"
      },
      "source": [
        "def printevenindexnumber(str):\n",
        "  for number in range(0,len(str)-1,2):\n",
        "    print(\"index[\",number,\"]\", str[number])\n",
        "\n",
        "string=\"pynative\"\n",
        "print(\"Original string is,\", string)\n",
        "print(\"Printing only even index number\")\n",
        "printevenindexnumber(string)"
      ],
      "execution_count": null,
      "outputs": [
        {
          "output_type": "stream",
          "text": [
            "Original string is, pynative\n",
            "Printing only even index number\n",
            "index[ 0 ] p\n",
            "index[ 2 ] n\n",
            "index[ 4 ] t\n",
            "index[ 6 ] v\n"
          ],
          "name": "stdout"
        }
      ]
    },
    {
      "cell_type": "markdown",
      "metadata": {
        "id": "oc6bFErdVy4k"
      },
      "source": [
        ""
      ]
    },
    {
      "cell_type": "code",
      "metadata": {
        "id": "TuKk3dabCsNB"
      },
      "source": [
        ""
      ],
      "execution_count": null,
      "outputs": []
    },
    {
      "cell_type": "markdown",
      "metadata": {
        "id": "I0P344TnCtM_"
      },
      "source": [
        "**4: In the string \"pynative\" remove characters from zero up to 5 and return a new string**"
      ]
    },
    {
      "cell_type": "code",
      "metadata": {
        "id": "Ydf43l5_DB3E",
        "colab": {
          "base_uri": "https://localhost:8080/"
        },
        "outputId": "fe830902-881e-4239-b60d-b8de3963b847"
      },
      "source": [
        "def removechars(str,n):\n",
        "  return str[n:]\n",
        "\n",
        "print(\"Removing n number of chars\")\n",
        "print(removechars(\"pynative\", 5))"
      ],
      "execution_count": null,
      "outputs": [
        {
          "output_type": "stream",
          "text": [
            "Removing n number of chars\n",
            "ive\n"
          ],
          "name": "stdout"
        }
      ]
    },
    {
      "cell_type": "markdown",
      "metadata": {
        "id": "5i7uTUBtDQDL"
      },
      "source": [
        "**5: Reverse numbers 121 and 125 and return true if it is the same as the original number.**"
      ]
    },
    {
      "cell_type": "code",
      "metadata": {
        "id": "uVb1zuoiDl4C",
        "colab": {
          "base_uri": "https://localhost:8080/"
        },
        "outputId": "f8d9ef11-4cb2-4860-c8aa-74abc72c7e6f"
      },
      "source": [
        "def reversecheck(number):\n",
        "  print(\"Original number\", number)\n",
        "  Originalnum = number\n",
        "  reversenum=0\n",
        "  while(number>0):\n",
        "    reminder= number % 10\n",
        "    reversenum= (reversenum * 10) + reminder\n",
        "    number = number // 10\n",
        "  if (Originalnum == reversenum):\n",
        "    return True\n",
        "  else:\n",
        "    return False\n",
        "print(\"The original and reverse number is the same:\", reversecheck(121))"
      ],
      "execution_count": null,
      "outputs": [
        {
          "output_type": "stream",
          "text": [
            "Original number 121\n",
            "The original and reverse number is the same: True\n"
          ],
          "name": "stdout"
        }
      ]
    },
    {
      "cell_type": "markdown",
      "metadata": {
        "id": "cf2_0MYzDuxl"
      },
      "source": [
        "**6: Given two list of numbers create a new list such that new list should contain only odd numbers from the first list and even numbers from the second list.**\r\n",
        "\r\n",
        "1.  List 1  [10, 20, 23, 11, 17]\r\n",
        "2.  List 2  [13, 43, 24, 36, 12]\r\n",
        "\r\n",
        "\r\n",
        "\r\n",
        " \r\n"
      ]
    },
    {
      "cell_type": "code",
      "metadata": {
        "id": "bLMaS9G1bU9c",
        "colab": {
          "base_uri": "https://localhost:8080/"
        },
        "outputId": "0b2de40b-feea-488a-840d-fdaf0c33e088"
      },
      "source": [
        "List1=[10,20,23,11,17]\n",
        "List2=[13,43,24,36,12]\n",
        "List3=[n for n in List1 if n%2] + [n for n in List2 if not n%2]\n",
        "print(List3)\n",
        "\n"
      ],
      "execution_count": null,
      "outputs": [
        {
          "output_type": "stream",
          "text": [
            "[23, 11, 17, 24, 36, 12]\n"
          ],
          "name": "stdout"
        }
      ]
    },
    {
      "cell_type": "markdown",
      "metadata": {
        "id": "z5GgC036ESdH"
      },
      "source": [
        "**7: Write a code to extract each digit from the integer 7536  in the reverse order**"
      ]
    },
    {
      "cell_type": "code",
      "metadata": {
        "id": "KA27ivt9EfVR",
        "colab": {
          "base_uri": "https://localhost:8080/"
        },
        "outputId": "16675ef2-7619-44d3-9cb6-1e2bb6b294ba"
      },
      "source": [
        "number = 7536\n",
        "print(\"Given number\", number)\n",
        "while (number > 0):\n",
        "    # get the last digit\n",
        "    digit = number % 10\n",
        "    \n",
        "    # remove the last digit and repeat the loop\n",
        "    number = number // 10\n",
        "    print(digit, end=\" \")"
      ],
      "execution_count": 4,
      "outputs": [
        {
          "output_type": "stream",
          "text": [
            "Given number 7536\n",
            "6 3 5 7 "
          ],
          "name": "stdout"
        }
      ]
    },
    {
      "cell_type": "markdown",
      "metadata": {
        "id": "Ac2IVsHR_x3f"
      },
      "source": [
        "**8. What is the output of the following code?**"
      ]
    },
    {
      "cell_type": "code",
      "metadata": {
        "id": "dzuN79j2_mE_",
        "colab": {
          "base_uri": "https://localhost:8080/",
          "height": 198
        },
        "outputId": "4af4312f-5cc6-47f9-f44b-4f1cdbcf1433"
      },
      "source": [
        "sampleList = [\"Jon\", \"Kelly\", \"Jessa\"]\r\n",
        "sampleList.append(2, \"Scott\")\r\n",
        "print(sampleList)"
      ],
      "execution_count": 5,
      "outputs": [
        {
          "output_type": "error",
          "ename": "TypeError",
          "evalue": "ignored",
          "traceback": [
            "\u001b[0;31m---------------------------------------------------------------------------\u001b[0m",
            "\u001b[0;31mTypeError\u001b[0m                                 Traceback (most recent call last)",
            "\u001b[0;32m<ipython-input-5-6e784efd483a>\u001b[0m in \u001b[0;36m<module>\u001b[0;34m()\u001b[0m\n\u001b[1;32m      1\u001b[0m \u001b[0msampleList\u001b[0m \u001b[0;34m=\u001b[0m \u001b[0;34m[\u001b[0m\u001b[0;34m\"Jon\"\u001b[0m\u001b[0;34m,\u001b[0m \u001b[0;34m\"Kelly\"\u001b[0m\u001b[0;34m,\u001b[0m \u001b[0;34m\"Jessa\"\u001b[0m\u001b[0;34m]\u001b[0m\u001b[0;34m\u001b[0m\u001b[0;34m\u001b[0m\u001b[0m\n\u001b[0;32m----> 2\u001b[0;31m \u001b[0msampleList\u001b[0m\u001b[0;34m.\u001b[0m\u001b[0mappend\u001b[0m\u001b[0;34m(\u001b[0m\u001b[0;36m2\u001b[0m\u001b[0;34m,\u001b[0m \u001b[0;34m\"Scott\"\u001b[0m\u001b[0;34m)\u001b[0m\u001b[0;34m\u001b[0m\u001b[0;34m\u001b[0m\u001b[0m\n\u001b[0m\u001b[1;32m      3\u001b[0m \u001b[0mprint\u001b[0m\u001b[0;34m(\u001b[0m\u001b[0msampleList\u001b[0m\u001b[0;34m)\u001b[0m\u001b[0;34m\u001b[0m\u001b[0;34m\u001b[0m\u001b[0m\n",
            "\u001b[0;31mTypeError\u001b[0m: append() takes exactly one argument (2 given)"
          ]
        }
      ]
    },
    {
      "cell_type": "markdown",
      "metadata": {
        "id": "Dm57yQVWfCm9"
      },
      "source": [
        "Answer: 1 - The program executed with errors"
      ]
    },
    {
      "cell_type": "markdown",
      "metadata": {
        "id": "mqNHojQj_7Gu"
      },
      "source": [
        "1.   The program executed with errors\r\n",
        "1.   [‘Jon’, ‘Kelly’, ‘Scott’, ‘Jessa’]\r\n",
        "2.   [‘Jon’, ‘Kelly’, ‘Jessa’, ‘Scott’]\r\n",
        "2.   [‘Jon’, ‘Scott’, ‘Kelly’, ‘Jessa’]\r\n",
        "\r\n",
        "\r\n"
      ]
    },
    {
      "cell_type": "markdown",
      "metadata": {
        "id": "hOzDvWv2Aqic"
      },
      "source": [
        "***9. What is the output of the following code?***"
      ]
    },
    {
      "cell_type": "code",
      "metadata": {
        "id": "GYNREZfOAw65",
        "colab": {
          "base_uri": "https://localhost:8080/"
        },
        "outputId": "895933cc-afff-4a0a-ee77-2240f132dc63"
      },
      "source": [
        "valueOne = 5 ** 2\r\n",
        "valueTwo = 5 ** 3\r\n",
        "\r\n",
        "print(valueOne)\r\n",
        "print(valueTwo)"
      ],
      "execution_count": 6,
      "outputs": [
        {
          "output_type": "stream",
          "text": [
            "25\n",
            "125\n"
          ],
          "name": "stdout"
        }
      ]
    },
    {
      "cell_type": "markdown",
      "metadata": {
        "id": "VGsfNQ_QA2HK"
      },
      "source": [
        "\r\n",
        "1. 10\r\n",
        "   15\r\n",
        "2. 25 \r\n",
        "   125\r\n",
        "1.Error: invalid syntax\r\n",
        "\r\n",
        "\r\n",
        "\r\n",
        "\r\n",
        "\r\n",
        "\r\n",
        "\r\n"
      ]
    },
    {
      "cell_type": "markdown",
      "metadata": {
        "id": "DxEq8YxGfP8g"
      },
      "source": [
        "Answer: 2 - 25 125"
      ]
    },
    {
      "cell_type": "markdown",
      "metadata": {
        "id": "GCgvAVj6sG1N"
      },
      "source": [
        "**10. Display the following data using string.format() method and as a message**\r\n",
        "* totalMoney = 1000\r\n",
        "* quantity =3\r\n",
        "* price = 450 \r\n",
        "\r\n",
        "\r\n",
        "\r\n",
        "\r\n"
      ]
    },
    {
      "cell_type": "code",
      "metadata": {
        "id": "dtXfJx31syUY",
        "colab": {
          "base_uri": "https://localhost:8080/"
        },
        "outputId": "7ecfddce-dfed-44d6-8d5a-7ed209e3c2b1"
      },
      "source": [
        "quantity = 3\n",
        "totalMoney = 1000\n",
        "price = 450\n",
        "statement1 = \"I have {1} dollars so I can buy {0} football for {2:.2f} dollars.\"\n",
        "print(statement1.format(quantity, totalMoney, price))"
      ],
      "execution_count": 7,
      "outputs": [
        {
          "output_type": "stream",
          "text": [
            "I have 1000 dollars so I can buy 3 football for 450.00 dollars.\n"
          ],
          "name": "stdout"
        }
      ]
    },
    {
      "cell_type": "markdown",
      "metadata": {
        "id": "yxY9xGyLsywP"
      },
      "source": [
        "**11: Print First 10 natural numbers using while loop**"
      ]
    },
    {
      "cell_type": "code",
      "metadata": {
        "colab": {
          "base_uri": "https://localhost:8080/"
        },
        "id": "rDQfnO3OiJRA",
        "outputId": "989d3b8f-6ae0-42ef-f441-7a84aad08e33"
      },
      "source": [
        "x=0\n",
        "while x <= 10:\n",
        "  print(x)\n",
        "  x +=1"
      ],
      "execution_count": 8,
      "outputs": [
        {
          "output_type": "stream",
          "text": [
            "0\n",
            "1\n",
            "2\n",
            "3\n",
            "4\n",
            "5\n",
            "6\n",
            "7\n",
            "8\n",
            "9\n",
            "10\n"
          ],
          "name": "stdout"
        }
      ]
    },
    {
      "cell_type": "markdown",
      "metadata": {
        "id": "WhRDBtDutC4M"
      },
      "source": [
        ""
      ]
    },
    {
      "cell_type": "markdown",
      "metadata": {
        "id": "5MBJ7mAztE0p"
      },
      "source": [
        "**12.  Reverse the following list using for loop**\r\n",
        "\r\n",
        "list1 = [10, 20, 30, 40, 50]"
      ]
    },
    {
      "cell_type": "code",
      "metadata": {
        "id": "TdWqlpJXtUvG",
        "colab": {
          "base_uri": "https://localhost:8080/"
        },
        "outputId": "92716401-8570-4195-f764-17cdf3d47624"
      },
      "source": [
        "list1 = [10,20,30,40,50]\n",
        "start = len(list1) - 1\n",
        "stop = -1\n",
        "step = -1\n",
        "for x in range(start, stop,step):\n",
        "  print(list1[x])"
      ],
      "execution_count": 12,
      "outputs": [
        {
          "output_type": "stream",
          "text": [
            "50\n",
            "40\n",
            "30\n",
            "20\n",
            "10\n"
          ],
          "name": "stdout"
        }
      ]
    },
    {
      "cell_type": "code",
      "metadata": {
        "id": "nXVFn-3wis4D"
      },
      "source": [
        "\n"
      ],
      "execution_count": null,
      "outputs": []
    },
    {
      "cell_type": "markdown",
      "metadata": {
        "id": "LyQAuxbgtVTM"
      },
      "source": [
        "**13: Display a message “Done” after successful execution of for loop**"
      ]
    },
    {
      "cell_type": "code",
      "metadata": {
        "id": "K8M3XInHtebM",
        "colab": {
          "base_uri": "https://localhost:8080/"
        },
        "outputId": "e1c8a006-aafa-4313-8238-fe4768b660d3"
      },
      "source": [
        "fruits= ['strawberries','bananas','oranges']\n",
        "for fruit in fruits:\n",
        "    print(fruit)\n",
        "print(\"Done!\")"
      ],
      "execution_count": 13,
      "outputs": [
        {
          "output_type": "stream",
          "text": [
            "strawberries\n",
            "bananas\n",
            "oranges\n",
            "Done!\n"
          ],
          "name": "stdout"
        }
      ]
    },
    {
      "cell_type": "markdown",
      "metadata": {
        "id": "Uggz_8FotmMO"
      },
      "source": [
        "**14. Use a loop to display elements from the given list (my_list) which are present at even positions**\r\n",
        "my_list = [10, 20, 30, 40, 50, 60, 70, 80, 90, 100]"
      ]
    },
    {
      "cell_type": "code",
      "metadata": {
        "id": "XI42cUtJtxha",
        "colab": {
          "base_uri": "https://localhost:8080/"
        },
        "outputId": "6eed72ad-52cd-4feb-b20b-6d9f58ac9a94"
      },
      "source": [
        "my_list = [10, 20, 30, 40, 50, 60, 70, 80, 90, 100]\n",
        "for x in my_list[1::2]:\n",
        "    print(x)"
      ],
      "execution_count": 16,
      "outputs": [
        {
          "output_type": "stream",
          "text": [
            "20\n",
            "40\n",
            "60\n",
            "80\n",
            "100\n"
          ],
          "name": "stdout"
        }
      ]
    },
    {
      "cell_type": "markdown",
      "metadata": {
        "id": "usUBQQ0ouFgI"
      },
      "source": [
        "**15. Create a list of your favourite 5 fruits. Then**\r\n",
        "\r\n",
        "Add 2 new fruits to the list\r\n",
        "What's the length of your list now?\r\n",
        "Remove any one fruit from the list\r\n",
        "What's the new length of the list now?\r\n",
        "Could you sort the list? \r\n"
      ]
    },
    {
      "cell_type": "code",
      "metadata": {
        "id": "FyzB7ZnEyq0X",
        "colab": {
          "base_uri": "https://localhost:8080/"
        },
        "outputId": "43383987-8917-461a-f155-a10aa407a86a"
      },
      "source": [
        "fruits=['strawberries','bananas','oranges', 'mangoes','pineapples']\n",
        "print(fruits)\n",
        "newfruits=['lychee','tangerine']\n",
        "fruits.append(newfruits)\n",
        "print(fruits)\n",
        "len(fruits)\n",
        "\n",
        "\n"
      ],
      "execution_count": 37,
      "outputs": [
        {
          "output_type": "stream",
          "text": [
            "['strawberries', 'bananas', 'oranges', 'mangoes', 'pineapples']\n",
            "['strawberries', 'bananas', 'oranges', 'mangoes', 'pineapples', ['lychee', 'tangerine']]\n"
          ],
          "name": "stdout"
        },
        {
          "output_type": "execute_result",
          "data": {
            "text/plain": [
              "6"
            ]
          },
          "metadata": {
            "tags": []
          },
          "execution_count": 37
        }
      ]
    },
    {
      "cell_type": "code",
      "metadata": {
        "colab": {
          "base_uri": "https://localhost:8080/"
        },
        "id": "YdbKdpN4nROV",
        "outputId": "0ec2af92-d316-4f31-a6fa-6420ede00e7b"
      },
      "source": [
        "fruits=['strawberries','bananas','oranges', 'mangoes','pineapples']\n",
        "print(fruits)\n",
        "newfruits=['lychee','tangerine']\n",
        "fruits.append(newfruits)\n",
        "print(fruits)\n",
        "len(fruits)\n",
        "del fruits[1]\n",
        "print(fruits)\n",
        "len(fruits)\n",
        "#No you could not sort the list"
      ],
      "execution_count": 42,
      "outputs": [
        {
          "output_type": "stream",
          "text": [
            "['strawberries', 'bananas', 'oranges', 'mangoes', 'pineapples']\n",
            "['strawberries', 'bananas', 'oranges', 'mangoes', 'pineapples', ['lychee', 'tangerine']]\n",
            "['strawberries', 'oranges', 'mangoes', 'pineapples', ['lychee', 'tangerine']]\n"
          ],
          "name": "stdout"
        },
        {
          "output_type": "execute_result",
          "data": {
            "text/plain": [
              "5"
            ]
          },
          "metadata": {
            "tags": []
          },
          "execution_count": 42
        }
      ]
    },
    {
      "cell_type": "markdown",
      "metadata": {
        "id": "YnjUxqA8yMHc"
      },
      "source": [
        ""
      ]
    }
  ]
}