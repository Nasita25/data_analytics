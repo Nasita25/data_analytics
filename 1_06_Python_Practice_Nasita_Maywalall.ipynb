{
  "nbformat": 4,
  "nbformat_minor": 0,
  "metadata": {
    "colab": {
      "name": "1/06 Python Practice - Nasita Maywalall",
      "provenance": [],
      "authorship_tag": "ABX9TyPGYmhAIrKkPVp3BWhnQ2TP",
      "include_colab_link": true
    },
    "kernelspec": {
      "name": "python3",
      "display_name": "Python 3"
    }
  },
  "cells": [
    {
      "cell_type": "markdown",
      "metadata": {
        "id": "view-in-github",
        "colab_type": "text"
      },
      "source": [
        "<a href=\"https://colab.research.google.com/github/Nasita25/data_analytics/blob/main/1_06_Python_Practice_Nasita_Maywalall.ipynb\" target=\"_parent\"><img src=\"https://colab.research.google.com/assets/colab-badge.svg\" alt=\"Open In Colab\"/></a>"
      ]
    },
    {
      "cell_type": "code",
      "metadata": {
        "colab": {
          "base_uri": "https://localhost:8080/"
        },
        "id": "gOaVJ3-5Huot",
        "outputId": "32e2b618-539b-44ed-cc37-b8674501906d"
      },
      "source": [
        "'Hello World'\n",
        "# Learning to code in python\n",
        "print(\"Hello World!\")"
      ],
      "execution_count": 6,
      "outputs": [
        {
          "output_type": "stream",
          "text": [
            "Hello World!\n"
          ],
          "name": "stdout"
        }
      ]
    },
    {
      "cell_type": "code",
      "metadata": {
        "colab": {
          "base_uri": "https://localhost:8080/"
        },
        "id": "kcrlrgKSJ6dS",
        "outputId": "5c6fe546-8c17-4d22-a1eb-3d9e0b9573cf"
      },
      "source": [
        "variableA = \"Hello World\"\n",
        "print (variableA)"
      ],
      "execution_count": 5,
      "outputs": [
        {
          "output_type": "stream",
          "text": [
            "Hello World\n"
          ],
          "name": "stdout"
        }
      ]
    },
    {
      "cell_type": "code",
      "metadata": {
        "colab": {
          "base_uri": "https://localhost:8080/"
        },
        "id": "rIJN7kGfL-k9",
        "outputId": "c0f941e5-832d-4f18-e118-a59875bb5556"
      },
      "source": [
        "Birthday_Greeting = \"Happy Birthday!\"\n",
        "print(Birthday_Greeting)"
      ],
      "execution_count": 9,
      "outputs": [
        {
          "output_type": "stream",
          "text": [
            "Happy Birthday!\n"
          ],
          "name": "stdout"
        }
      ]
    },
    {
      "cell_type": "code",
      "metadata": {
        "colab": {
          "base_uri": "https://localhost:8080/"
        },
        "id": "hxuSfC9pOAf_",
        "outputId": "4305cd1c-bb53-4216-b75e-a1d4d96efbb1"
      },
      "source": [
        "school=\"cuny queens\"\n",
        "print(school.upper())\n",
        "print(school.lower())"
      ],
      "execution_count": 10,
      "outputs": [
        {
          "output_type": "stream",
          "text": [
            "CUNY QUEENS\n",
            "cuny queens\n"
          ],
          "name": "stdout"
        }
      ]
    },
    {
      "cell_type": "code",
      "metadata": {
        "colab": {
          "base_uri": "https://localhost:8080/"
        },
        "id": "8esKYLJuPfxE",
        "outputId": "e06d9dd0-e73d-439d-c738-019ff941c78a"
      },
      "source": [
        "firstname = \"Mary\"\n",
        "lastname= \"Smith\"\n",
        "PersonName = firstname + \" \" +lastname\n",
        "print(PersonName)\n",
        "print(\"Mary\")\n",
        "print(\"\\tSmith\")\n",
        "print(\"Mary\\nSmith\")\n",
        "print(\"cuny\\nqueens\\ncollege\")"
      ],
      "execution_count": 19,
      "outputs": [
        {
          "output_type": "stream",
          "text": [
            "Mary Smith\n",
            "Mary\n",
            "\tSmith\n",
            "Mary\n",
            "Smith\n",
            "cuny\n",
            "queens\n",
            "college\n"
          ],
          "name": "stdout"
        }
      ]
    },
    {
      "cell_type": "code",
      "metadata": {
        "colab": {
          "base_uri": "https://localhost:8080/"
        },
        "id": "YA-h09V6Sqdr",
        "outputId": "6004a7d8-84c7-4b51-da70-d4314b0988a1"
      },
      "source": [
        "Individual_Name = \"Mary Smith   M.D.\"\n",
        "print(Individual_Name)\n",
        "print(Individual_Name.rstrip())"
      ],
      "execution_count": 43,
      "outputs": [
        {
          "output_type": "stream",
          "text": [
            "Mary Smith   M.D.\n",
            "Mary Smith   M.D.\n"
          ],
          "name": "stdout"
        }
      ]
    },
    {
      "cell_type": "code",
      "metadata": {
        "colab": {
          "base_uri": "https://localhost:8080/"
        },
        "id": "A7Iu7UnPUAM8",
        "outputId": "338a83a5-d8df-49cf-b612-d7b1ff1bffe8"
      },
      "source": [
        "Name = \"Namisha\"\n",
        "Message = \"Hi\" + \" \" +Name+ \" \" + \",how are you?\"\n",
        "print(Message)"
      ],
      "execution_count": 35,
      "outputs": [
        {
          "output_type": "stream",
          "text": [
            "Hi Namisha ,how are you?\n"
          ],
          "name": "stdout"
        }
      ]
    },
    {
      "cell_type": "code",
      "metadata": {
        "colab": {
          "base_uri": "https://localhost:8080/"
        },
        "id": "o8Y0HsKCUY64",
        "outputId": "fc0b181d-2c82-4415-de25-9d04e3dedba7"
      },
      "source": [
        "firstname = \"Namisha\"\n",
        "lastname = \"Singh\"\n",
        "Personname = firstname + \" \" + lastname\n",
        "print(firstname.upper()) \n",
        "print(lastname.upper())\n",
        "print(firstname.lower()) \n",
        "print(lastname.lower())"
      ],
      "execution_count": 29,
      "outputs": [
        {
          "output_type": "stream",
          "text": [
            "NAMISHA\n",
            "SINGH\n",
            "namisha\n",
            "singh\n"
          ],
          "name": "stdout"
        }
      ]
    },
    {
      "cell_type": "code",
      "metadata": {
        "colab": {
          "base_uri": "https://localhost:8080/"
        },
        "id": "uLp8YgAmVLN-",
        "outputId": "b7bdea9d-bf22-423b-87a8-64d746c14fe6"
      },
      "source": [
        "firstname= \"Namisha\"\n",
        "lastname= \"Singh\"\n",
        "print(\"Namisha\")\n",
        "print(\"\\tSingh\")\n",
        "print(\"\\tSingh\".lstrip())\n"
      ],
      "execution_count": 40,
      "outputs": [
        {
          "output_type": "stream",
          "text": [
            "Namisha\n",
            "\tSingh\n",
            "Singh\n"
          ],
          "name": "stdout"
        }
      ]
    },
    {
      "cell_type": "code",
      "metadata": {
        "colab": {
          "base_uri": "https://localhost:8080/"
        },
        "id": "ZSIFFDDAYO30",
        "outputId": "8efaafe4-16b6-47fd-a1e0-622cab7de102"
      },
      "source": [
        "age=27\n",
        "Message= \"Happy\" + \" \" +str(age) + \"th Birthday\"\n",
        "print(Message)\n"
      ],
      "execution_count": 48,
      "outputs": [
        {
          "output_type": "stream",
          "text": [
            "Happy 27th Birthday\n"
          ],
          "name": "stdout"
        }
      ]
    },
    {
      "cell_type": "code",
      "metadata": {
        "colab": {
          "base_uri": "https://localhost:8080/"
        },
        "id": "-bT-oniRf2nE",
        "outputId": "a618afe1-2a4d-4bc1-f451-f4de803c6783"
      },
      "source": [
        "print(4+4)\n",
        "print(8-0)\n",
        "print(4*2)\n",
        "print(16/2)"
      ],
      "execution_count": 51,
      "outputs": [
        {
          "output_type": "stream",
          "text": [
            "8\n",
            "8\n",
            "8\n",
            "8.0\n"
          ],
          "name": "stdout"
        }
      ]
    },
    {
      "cell_type": "code",
      "metadata": {
        "colab": {
          "base_uri": "https://localhost:8080/"
        },
        "id": "ouV-NnLXgOIn",
        "outputId": "df66ee4a-c432-4ace-8247-c6fd35ad2321"
      },
      "source": [
        "favoritenumber=25\n",
        "name= \"Yasmeen\"\n",
        "message = \"Hi\" + \" \" + name + \",\" + \" \" + \"my favorite number is\" + \" \" + str(favoritenumber) + \".\"\n",
        "print(message)"
      ],
      "execution_count": 57,
      "outputs": [
        {
          "output_type": "stream",
          "text": [
            "Hi Yasmeen, my favorite number is 25.\n"
          ],
          "name": "stdout"
        }
      ]
    }
  ]
}