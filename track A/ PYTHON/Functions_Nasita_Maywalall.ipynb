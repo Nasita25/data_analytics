{
  "nbformat": 4,
  "nbformat_minor": 0,
  "metadata": {
    "colab": {
      "name": "Functions - Nasita Maywalall",
      "provenance": [],
      "authorship_tag": "ABX9TyNYfjXii7qlNAS5tc4F4Yxh",
      "include_colab_link": true
    },
    "kernelspec": {
      "name": "python3",
      "display_name": "Python 3"
    }
  },
  "cells": [
    {
      "cell_type": "markdown",
      "metadata": {
        "id": "view-in-github",
        "colab_type": "text"
      },
      "source": [
        "<a href=\"https://colab.research.google.com/github/Nasita25/data_analytics/blob/main/track%20A/%20PYTHON/Functions_Nasita_Maywalall.ipynb\" target=\"_parent\"><img src=\"https://colab.research.google.com/assets/colab-badge.svg\" alt=\"Open In Colab\"/></a>"
      ]
    },
    {
      "cell_type": "code",
      "metadata": {
        "colab": {
          "base_uri": "https://localhost:8080/"
        },
        "id": "WGDn0GyFzFUy",
        "outputId": "d6f94e6d-eeaf-4a26-b8c9-4d3455d8e498"
      },
      "source": [
        "def greeting():\n",
        "  \"This function displays a greeting\"\n",
        "  print('hello there!')\n",
        "  \n",
        "greeting()\n"
      ],
      "execution_count": 5,
      "outputs": [
        {
          "output_type": "stream",
          "text": [
            "hello there!\n"
          ],
          "name": "stdout"
        }
      ]
    },
    {
      "cell_type": "code",
      "metadata": {
        "colab": {
          "base_uri": "https://localhost:8080/"
        },
        "id": "J0YmEjjJz58c",
        "outputId": "d87d23a5-fe2d-4406-bdaf-2835cf503137"
      },
      "source": [
        "def greeting (name):\n",
        "  \"This function displays a greeting\"\n",
        "  print('hello there,' \" \" + name + '!')\n",
        "greeting('Haley')"
      ],
      "execution_count": 7,
      "outputs": [
        {
          "output_type": "stream",
          "text": [
            "hello there, Haley!\n"
          ],
          "name": "stdout"
        }
      ]
    },
    {
      "cell_type": "code",
      "metadata": {
        "colab": {
          "base_uri": "https://localhost:8080/"
        },
        "id": "IRymRB6o0NLE",
        "outputId": "95c84001-6564-48ab-c8a0-62d4aeab4737"
      },
      "source": [
        "def greeting_2(first_name, last_name):\n",
        "  \"Greets someone by first and last name\"\n",
        "  print(\"Hello there,\" \" \" + first_name + \" \" + last_name)\n",
        "greeting_2('Paul','John')"
      ],
      "execution_count": 13,
      "outputs": [
        {
          "output_type": "stream",
          "text": [
            "Hello there, Paul John\n"
          ],
          "name": "stdout"
        }
      ]
    },
    {
      "cell_type": "code",
      "metadata": {
        "colab": {
          "base_uri": "https://localhost:8080/"
        },
        "id": "RkItPKvf1XKy",
        "outputId": "7b8b950e-e808-4d6c-8c3b-9de4f989091f"
      },
      "source": [
        "def greeting_2(first_name, last_name,age):\n",
        "  \"Greets someone by first and last name\"\n",
        "  print(\"My name is\" + \" \" + first_name + \" \" + last_name)\n",
        "  print(\"I am\" + \" \" + str(age) +\" \"+\"years old!\")\n",
        "greeting_2('Nasita','Maywalall',20)"
      ],
      "execution_count": 18,
      "outputs": [
        {
          "output_type": "stream",
          "text": [
            "My name is Nasita Maywalall\n",
            "I am 20 years old!\n"
          ],
          "name": "stdout"
        }
      ]
    },
    {
      "cell_type": "code",
      "metadata": {
        "colab": {
          "base_uri": "https://localhost:8080/"
        },
        "id": "EVcQ0WER19zf",
        "outputId": "2ad486f5-8482-454b-8cb5-434d560a280b"
      },
      "source": [
        "def greeting_2(first_name, last_name,age):\n",
        "  \"Greets someone by first and last name\"\n",
        "  print(\"My name is\" + \" \" + first_name + \" \" + last_name)\n",
        "  print(\"I am\" + \" \" + str(age) +\" \"+\"years old!\")\n",
        "greeting_2('Nasita','Maywalall',20)\n",
        "greeting_2('Bhela','Ortiz',3)"
      ],
      "execution_count": 19,
      "outputs": [
        {
          "output_type": "stream",
          "text": [
            "My name is Nasita Maywalall\n",
            "I am 20 years old!\n",
            "My name is Bhela Ortiz\n",
            "I am 3 years old!\n"
          ],
          "name": "stdout"
        }
      ]
    },
    {
      "cell_type": "code",
      "metadata": {
        "colab": {
          "base_uri": "https://localhost:8080/"
        },
        "id": "hIywSy7R37kh",
        "outputId": "a0af9bdf-bdef-4721-e9e4-f7390b62a15c"
      },
      "source": [
        "def greeting_2 (first_name, last_name, age=23):\n",
        "  \"Greets someone by first and last name\"\n",
        "  print(\"My name is\" + \" \" + first_name + \" \" + last_name)\n",
        "  print(\"I am\"+ \" \" + str(age) + \", years old\")\n",
        "\n",
        "greeting_2(first_name = 'Paul', last_name = 'John')\n",
        "greeting_2 (age=43, first_name=\"Paul\", last_name = 'John')"
      ],
      "execution_count": 26,
      "outputs": [
        {
          "output_type": "stream",
          "text": [
            "My name is Paul John\n",
            "I am 23, years old\n",
            "My name is Paul John\n",
            "I am 43, years old\n"
          ],
          "name": "stdout"
        }
      ]
    },
    {
      "cell_type": "markdown",
      "metadata": {
        "id": "L-U8y8dK_vpm"
      },
      "source": [
        "**ASSIGNMENT**"
      ]
    },
    {
      "cell_type": "code",
      "metadata": {
        "colab": {
          "base_uri": "https://localhost:8080/"
        },
        "id": "uYcTNAb95JPV",
        "outputId": "c997771d-a786-436a-a166-73b23cb3859e"
      },
      "source": [
        "def location(city,country):\n",
        "  \"Tells the city and country a person lives in\"\n",
        "  print(\"My friends live in\" + \" \" + city + ',' + country)\n",
        "location('New York', \"USA\")\n",
        "location ('London', \"United Kingdom\")\n",
        "location ( 'Berlin', \"Germany\")"
      ],
      "execution_count": 31,
      "outputs": [
        {
          "output_type": "stream",
          "text": [
            "My friends live in New York,USA\n",
            "My friends live in London,United Kingdom\n",
            "My friends live in Berlin,Germany\n"
          ],
          "name": "stdout"
        }
      ]
    },
    {
      "cell_type": "code",
      "metadata": {
        "colab": {
          "base_uri": "https://localhost:8080/"
        },
        "id": "T5VtPcgG63dC",
        "outputId": "b8c001cf-a740-4c59-8c07-396a5a7bfd71"
      },
      "source": [
        "def location(city,country):\n",
        "  \"Tells the city and country a person lives in\"\n",
        "  print(\"My friend lives in\" + \" \" + city + ',' + country)\n",
        "  print( \"I live in New York, USA\")\n",
        "location(city=\"New York\", country = 'USA')\n",
        "location(city=\"London\", country=\"United Kingdom\")\n",
        "location(city='Berlin', country = \"Germany\")"
      ],
      "execution_count": 34,
      "outputs": [
        {
          "output_type": "stream",
          "text": [
            "My friend lives in New York,USA\n",
            "I live in New York, USA\n",
            "My friend lives in London,United Kingdom\n",
            "I live in New York, USA\n",
            "My friend lives in Berlin,Germany\n",
            "I live in New York, USA\n"
          ],
          "name": "stdout"
        }
      ]
    },
    {
      "cell_type": "markdown",
      "metadata": {
        "id": "kxMst0-A2LzV"
      },
      "source": [
        "Function Calls:\n",
        "\n",
        "\n",
        "1.   Order matters when you define arguments\n",
        "2.   Python stores arguments in paramters in the order you've defined them.\n",
        "\n"
      ]
    },
    {
      "cell_type": "markdown",
      "metadata": {
        "id": "SK64jsJozLVv"
      },
      "source": [
        "def - the name of the function and what it will do\n",
        "Line 2 and 3 are part of the function"
      ]
    }
  ]
}